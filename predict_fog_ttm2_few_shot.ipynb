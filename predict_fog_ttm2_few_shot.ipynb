{
  "cells": [
    {
      "cell_type": "markdown",
      "metadata": {
        "id": "view-in-github",
        "colab_type": "text"
      },
      "source": [
        "<a href=\"https://colab.research.google.com/github/SindhuVarier/ttm/blob/main/predict_fog_ttm2_few_shot.ipynb\" target=\"_parent\"><img src=\"https://colab.research.google.com/assets/colab-badge.svg\" alt=\"Open In Colab\"/></a>"
      ]
    },
    {
      "cell_type": "markdown",
      "metadata": {
        "id": "dx6CstpxePxS"
      },
      "source": [
        "\n",
        "# Fog Prediction\n",
        "\n",
        "TinyTimeMixers (TTMs) are compact pre-trained models for Multivariate Time-Series Forecasting, open-sourced by IBM Research. With less than 1 Million parameters, TTM introduces the notion of the first-ever \"tiny\" pre-trained models for Time-Series Forecasting. TTM outperforms several popular benchmarks demanding billions of parameters in zero-shot and few-shot forecasting and can easily be fine-tuned for multi-variate forecasts.\n",
        "\n",
        "Customizing recipe https://github.com/ibm-granite-community/granite-timeseries-cookbook/blob/main/recipes/Time_Series/Few-shot_Finetuning_and_Evaluation.ipynb for for prediction in Bengaluru airports"
      ]
    },
    {
      "cell_type": "markdown",
      "metadata": {
        "id": "29uuF3WQePxU"
      },
      "source": [
        "## Setting Up"
      ]
    },
    {
      "cell_type": "markdown",
      "metadata": {
        "id": "8uG_tCrXePxV"
      },
      "source": [
        "### Install the TSFM Library\n",
        "\n",
        "The [granite-tsfm library](https://github.com/ibm-granite/granite-tsfm) provides utilities for working with Time Series Foundation Models (TSFM). Here we retrieve and install a tested version of the library."
      ]
    },
    {
      "cell_type": "code",
      "execution_count": 1,
      "metadata": {
        "colab": {
          "base_uri": "https://localhost:8080/"
        },
        "id": "FtVdi-jVePxW",
        "outputId": "23eddbf6-6cc2-4daa-f039-6e1c59343261"
      },
      "outputs": [
        {
          "output_type": "stream",
          "name": "stdout",
          "text": [
            "Collecting tsfm_public@ git+https://github.com/ibm-granite/granite-tsfm.git@v0.2.12 (from tsfm_public[notebooks]@ git+https://github.com/ibm-granite/granite-tsfm.git@v0.2.12)\n",
            "  Cloning https://github.com/ibm-granite/granite-tsfm.git (to revision v0.2.12) to /tmp/pip-install-0rf35ejj/tsfm-public_55a62d187fb348d39136129c2856afe3\n",
            "  Running command git clone --filter=blob:none --quiet https://github.com/ibm-granite/granite-tsfm.git /tmp/pip-install-0rf35ejj/tsfm-public_55a62d187fb348d39136129c2856afe3\n",
            "  Running command git checkout -q 9484de7a81e9d202ca024ee7924b83a796661dca\n",
            "  Resolved https://github.com/ibm-granite/granite-tsfm.git to commit 9484de7a81e9d202ca024ee7924b83a796661dca\n",
            "  Installing build dependencies ... \u001b[?25l\u001b[?25hdone\n",
            "  Getting requirements to build wheel ... \u001b[?25l\u001b[?25hdone\n",
            "  Preparing metadata (pyproject.toml) ... \u001b[?25l\u001b[?25hdone\n",
            "Requirement already satisfied: pandas>=2.2.0 in /usr/local/lib/python3.10/dist-packages (from tsfm_public@ git+https://github.com/ibm-granite/granite-tsfm.git@v0.2.12->tsfm_public[notebooks]@ git+https://github.com/ibm-granite/granite-tsfm.git@v0.2.12) (2.2.2)\n",
            "Requirement already satisfied: scikit-learn in /usr/local/lib/python3.10/dist-packages (from tsfm_public@ git+https://github.com/ibm-granite/granite-tsfm.git@v0.2.12->tsfm_public[notebooks]@ git+https://github.com/ibm-granite/granite-tsfm.git@v0.2.12) (1.5.2)\n",
            "Requirement already satisfied: transformers>=4.38.0 in /usr/local/lib/python3.10/dist-packages (from transformers[torch]>=4.38.0->tsfm_public@ git+https://github.com/ibm-granite/granite-tsfm.git@v0.2.12->tsfm_public[notebooks]@ git+https://github.com/ibm-granite/granite-tsfm.git@v0.2.12) (4.46.3)\n",
            "Collecting datasets (from tsfm_public@ git+https://github.com/ibm-granite/granite-tsfm.git@v0.2.12->tsfm_public[notebooks]@ git+https://github.com/ibm-granite/granite-tsfm.git@v0.2.12)\n",
            "  Downloading datasets-3.1.0-py3-none-any.whl.metadata (20 kB)\n",
            "Requirement already satisfied: deprecated in /usr/local/lib/python3.10/dist-packages (from tsfm_public@ git+https://github.com/ibm-granite/granite-tsfm.git@v0.2.12->tsfm_public[notebooks]@ git+https://github.com/ibm-granite/granite-tsfm.git@v0.2.12) (1.2.15)\n",
            "Collecting urllib3<2,>=1.26.19 (from tsfm_public@ git+https://github.com/ibm-granite/granite-tsfm.git@v0.2.12->tsfm_public[notebooks]@ git+https://github.com/ibm-granite/granite-tsfm.git@v0.2.12)\n",
            "  Downloading urllib3-1.26.20-py2.py3-none-any.whl.metadata (50 kB)\n",
            "\u001b[2K     \u001b[90m━━━━━━━━━━━━━━━━━━━━━━━━━━━━━━━━━━━━━━━━\u001b[0m \u001b[32m50.1/50.1 kB\u001b[0m \u001b[31m2.4 MB/s\u001b[0m eta \u001b[36m0:00:00\u001b[0m\n",
            "\u001b[?25hRequirement already satisfied: numpy<2 in /usr/local/lib/python3.10/dist-packages (from tsfm_public@ git+https://github.com/ibm-granite/granite-tsfm.git@v0.2.12->tsfm_public[notebooks]@ git+https://github.com/ibm-granite/granite-tsfm.git@v0.2.12) (1.26.4)\n",
            "Collecting jupyter (from tsfm_public@ git+https://github.com/ibm-granite/granite-tsfm.git@v0.2.12->tsfm_public[notebooks]@ git+https://github.com/ibm-granite/granite-tsfm.git@v0.2.12)\n",
            "  Downloading jupyter-1.1.1-py2.py3-none-any.whl.metadata (2.0 kB)\n",
            "Requirement already satisfied: matplotlib in /usr/local/lib/python3.10/dist-packages (from tsfm_public@ git+https://github.com/ibm-granite/granite-tsfm.git@v0.2.12->tsfm_public[notebooks]@ git+https://github.com/ibm-granite/granite-tsfm.git@v0.2.12) (3.8.0)\n",
            "Requirement already satisfied: ipywidgets in /usr/local/lib/python3.10/dist-packages (from tsfm_public@ git+https://github.com/ibm-granite/granite-tsfm.git@v0.2.12->tsfm_public[notebooks]@ git+https://github.com/ibm-granite/granite-tsfm.git@v0.2.12) (7.7.1)\n",
            "Requirement already satisfied: plotly in /usr/local/lib/python3.10/dist-packages (from tsfm_public@ git+https://github.com/ibm-granite/granite-tsfm.git@v0.2.12->tsfm_public[notebooks]@ git+https://github.com/ibm-granite/granite-tsfm.git@v0.2.12) (5.24.1)\n",
            "Collecting kaleido (from tsfm_public@ git+https://github.com/ibm-granite/granite-tsfm.git@v0.2.12->tsfm_public[notebooks]@ git+https://github.com/ibm-granite/granite-tsfm.git@v0.2.12)\n",
            "  Downloading kaleido-0.2.1-py2.py3-none-manylinux1_x86_64.whl.metadata (15 kB)\n",
            "Requirement already satisfied: tensorboard in /usr/local/lib/python3.10/dist-packages (from tsfm_public@ git+https://github.com/ibm-granite/granite-tsfm.git@v0.2.12->tsfm_public[notebooks]@ git+https://github.com/ibm-granite/granite-tsfm.git@v0.2.12) (2.17.1)\n",
            "Requirement already satisfied: python-dateutil>=2.8.2 in /usr/local/lib/python3.10/dist-packages (from pandas>=2.2.0->tsfm_public@ git+https://github.com/ibm-granite/granite-tsfm.git@v0.2.12->tsfm_public[notebooks]@ git+https://github.com/ibm-granite/granite-tsfm.git@v0.2.12) (2.8.2)\n",
            "Requirement already satisfied: pytz>=2020.1 in /usr/local/lib/python3.10/dist-packages (from pandas>=2.2.0->tsfm_public@ git+https://github.com/ibm-granite/granite-tsfm.git@v0.2.12->tsfm_public[notebooks]@ git+https://github.com/ibm-granite/granite-tsfm.git@v0.2.12) (2024.2)\n",
            "Requirement already satisfied: tzdata>=2022.7 in /usr/local/lib/python3.10/dist-packages (from pandas>=2.2.0->tsfm_public@ git+https://github.com/ibm-granite/granite-tsfm.git@v0.2.12->tsfm_public[notebooks]@ git+https://github.com/ibm-granite/granite-tsfm.git@v0.2.12) (2024.2)\n",
            "Requirement already satisfied: filelock in /usr/local/lib/python3.10/dist-packages (from transformers>=4.38.0->transformers[torch]>=4.38.0->tsfm_public@ git+https://github.com/ibm-granite/granite-tsfm.git@v0.2.12->tsfm_public[notebooks]@ git+https://github.com/ibm-granite/granite-tsfm.git@v0.2.12) (3.16.1)\n",
            "Requirement already satisfied: huggingface-hub<1.0,>=0.23.2 in /usr/local/lib/python3.10/dist-packages (from transformers>=4.38.0->transformers[torch]>=4.38.0->tsfm_public@ git+https://github.com/ibm-granite/granite-tsfm.git@v0.2.12->tsfm_public[notebooks]@ git+https://github.com/ibm-granite/granite-tsfm.git@v0.2.12) (0.26.3)\n",
            "Requirement already satisfied: packaging>=20.0 in /usr/local/lib/python3.10/dist-packages (from transformers>=4.38.0->transformers[torch]>=4.38.0->tsfm_public@ git+https://github.com/ibm-granite/granite-tsfm.git@v0.2.12->tsfm_public[notebooks]@ git+https://github.com/ibm-granite/granite-tsfm.git@v0.2.12) (24.2)\n",
            "Requirement already satisfied: pyyaml>=5.1 in /usr/local/lib/python3.10/dist-packages (from transformers>=4.38.0->transformers[torch]>=4.38.0->tsfm_public@ git+https://github.com/ibm-granite/granite-tsfm.git@v0.2.12->tsfm_public[notebooks]@ git+https://github.com/ibm-granite/granite-tsfm.git@v0.2.12) (6.0.2)\n",
            "Requirement already satisfied: regex!=2019.12.17 in /usr/local/lib/python3.10/dist-packages (from transformers>=4.38.0->transformers[torch]>=4.38.0->tsfm_public@ git+https://github.com/ibm-granite/granite-tsfm.git@v0.2.12->tsfm_public[notebooks]@ git+https://github.com/ibm-granite/granite-tsfm.git@v0.2.12) (2024.9.11)\n",
            "Requirement already satisfied: requests in /usr/local/lib/python3.10/dist-packages (from transformers>=4.38.0->transformers[torch]>=4.38.0->tsfm_public@ git+https://github.com/ibm-granite/granite-tsfm.git@v0.2.12->tsfm_public[notebooks]@ git+https://github.com/ibm-granite/granite-tsfm.git@v0.2.12) (2.32.3)\n",
            "Requirement already satisfied: tokenizers<0.21,>=0.20 in /usr/local/lib/python3.10/dist-packages (from transformers>=4.38.0->transformers[torch]>=4.38.0->tsfm_public@ git+https://github.com/ibm-granite/granite-tsfm.git@v0.2.12->tsfm_public[notebooks]@ git+https://github.com/ibm-granite/granite-tsfm.git@v0.2.12) (0.20.3)\n",
            "Requirement already satisfied: safetensors>=0.4.1 in /usr/local/lib/python3.10/dist-packages (from transformers>=4.38.0->transformers[torch]>=4.38.0->tsfm_public@ git+https://github.com/ibm-granite/granite-tsfm.git@v0.2.12->tsfm_public[notebooks]@ git+https://github.com/ibm-granite/granite-tsfm.git@v0.2.12) (0.4.5)\n",
            "Requirement already satisfied: tqdm>=4.27 in /usr/local/lib/python3.10/dist-packages (from transformers>=4.38.0->transformers[torch]>=4.38.0->tsfm_public@ git+https://github.com/ibm-granite/granite-tsfm.git@v0.2.12->tsfm_public[notebooks]@ git+https://github.com/ibm-granite/granite-tsfm.git@v0.2.12) (4.66.6)\n",
            "Requirement already satisfied: torch in /usr/local/lib/python3.10/dist-packages (from transformers[torch]>=4.38.0->tsfm_public@ git+https://github.com/ibm-granite/granite-tsfm.git@v0.2.12->tsfm_public[notebooks]@ git+https://github.com/ibm-granite/granite-tsfm.git@v0.2.12) (2.5.1+cu121)\n",
            "Requirement already satisfied: accelerate>=0.26.0 in /usr/local/lib/python3.10/dist-packages (from transformers[torch]>=4.38.0->tsfm_public@ git+https://github.com/ibm-granite/granite-tsfm.git@v0.2.12->tsfm_public[notebooks]@ git+https://github.com/ibm-granite/granite-tsfm.git@v0.2.12) (1.1.1)\n",
            "Requirement already satisfied: pyarrow>=15.0.0 in /usr/local/lib/python3.10/dist-packages (from datasets->tsfm_public@ git+https://github.com/ibm-granite/granite-tsfm.git@v0.2.12->tsfm_public[notebooks]@ git+https://github.com/ibm-granite/granite-tsfm.git@v0.2.12) (17.0.0)\n",
            "Collecting dill<0.3.9,>=0.3.0 (from datasets->tsfm_public@ git+https://github.com/ibm-granite/granite-tsfm.git@v0.2.12->tsfm_public[notebooks]@ git+https://github.com/ibm-granite/granite-tsfm.git@v0.2.12)\n",
            "  Downloading dill-0.3.8-py3-none-any.whl.metadata (10 kB)\n",
            "Collecting xxhash (from datasets->tsfm_public@ git+https://github.com/ibm-granite/granite-tsfm.git@v0.2.12->tsfm_public[notebooks]@ git+https://github.com/ibm-granite/granite-tsfm.git@v0.2.12)\n",
            "  Downloading xxhash-3.5.0-cp310-cp310-manylinux_2_17_x86_64.manylinux2014_x86_64.whl.metadata (12 kB)\n",
            "Collecting multiprocess<0.70.17 (from datasets->tsfm_public@ git+https://github.com/ibm-granite/granite-tsfm.git@v0.2.12->tsfm_public[notebooks]@ git+https://github.com/ibm-granite/granite-tsfm.git@v0.2.12)\n",
            "  Downloading multiprocess-0.70.16-py310-none-any.whl.metadata (7.2 kB)\n",
            "Collecting fsspec<=2024.9.0,>=2023.1.0 (from fsspec[http]<=2024.9.0,>=2023.1.0->datasets->tsfm_public@ git+https://github.com/ibm-granite/granite-tsfm.git@v0.2.12->tsfm_public[notebooks]@ git+https://github.com/ibm-granite/granite-tsfm.git@v0.2.12)\n",
            "  Downloading fsspec-2024.9.0-py3-none-any.whl.metadata (11 kB)\n",
            "Requirement already satisfied: aiohttp in /usr/local/lib/python3.10/dist-packages (from datasets->tsfm_public@ git+https://github.com/ibm-granite/granite-tsfm.git@v0.2.12->tsfm_public[notebooks]@ git+https://github.com/ibm-granite/granite-tsfm.git@v0.2.12) (3.11.9)\n",
            "Requirement already satisfied: wrapt<2,>=1.10 in /usr/local/lib/python3.10/dist-packages (from deprecated->tsfm_public@ git+https://github.com/ibm-granite/granite-tsfm.git@v0.2.12->tsfm_public[notebooks]@ git+https://github.com/ibm-granite/granite-tsfm.git@v0.2.12) (1.17.0)\n",
            "Requirement already satisfied: ipykernel>=4.5.1 in /usr/local/lib/python3.10/dist-packages (from ipywidgets->tsfm_public@ git+https://github.com/ibm-granite/granite-tsfm.git@v0.2.12->tsfm_public[notebooks]@ git+https://github.com/ibm-granite/granite-tsfm.git@v0.2.12) (5.5.6)\n",
            "Requirement already satisfied: ipython-genutils~=0.2.0 in /usr/local/lib/python3.10/dist-packages (from ipywidgets->tsfm_public@ git+https://github.com/ibm-granite/granite-tsfm.git@v0.2.12->tsfm_public[notebooks]@ git+https://github.com/ibm-granite/granite-tsfm.git@v0.2.12) (0.2.0)\n",
            "Requirement already satisfied: traitlets>=4.3.1 in /usr/local/lib/python3.10/dist-packages (from ipywidgets->tsfm_public@ git+https://github.com/ibm-granite/granite-tsfm.git@v0.2.12->tsfm_public[notebooks]@ git+https://github.com/ibm-granite/granite-tsfm.git@v0.2.12) (5.7.1)\n",
            "Requirement already satisfied: widgetsnbextension~=3.6.0 in /usr/local/lib/python3.10/dist-packages (from ipywidgets->tsfm_public@ git+https://github.com/ibm-granite/granite-tsfm.git@v0.2.12->tsfm_public[notebooks]@ git+https://github.com/ibm-granite/granite-tsfm.git@v0.2.12) (3.6.10)\n",
            "Requirement already satisfied: ipython>=4.0.0 in /usr/local/lib/python3.10/dist-packages (from ipywidgets->tsfm_public@ git+https://github.com/ibm-granite/granite-tsfm.git@v0.2.12->tsfm_public[notebooks]@ git+https://github.com/ibm-granite/granite-tsfm.git@v0.2.12) (7.34.0)\n",
            "Requirement already satisfied: jupyterlab-widgets>=1.0.0 in /usr/local/lib/python3.10/dist-packages (from ipywidgets->tsfm_public@ git+https://github.com/ibm-granite/granite-tsfm.git@v0.2.12->tsfm_public[notebooks]@ git+https://github.com/ibm-granite/granite-tsfm.git@v0.2.12) (3.0.13)\n",
            "Requirement already satisfied: notebook in /usr/local/lib/python3.10/dist-packages (from jupyter->tsfm_public@ git+https://github.com/ibm-granite/granite-tsfm.git@v0.2.12->tsfm_public[notebooks]@ git+https://github.com/ibm-granite/granite-tsfm.git@v0.2.12) (6.5.5)\n",
            "Requirement already satisfied: jupyter-console in /usr/local/lib/python3.10/dist-packages (from jupyter->tsfm_public@ git+https://github.com/ibm-granite/granite-tsfm.git@v0.2.12->tsfm_public[notebooks]@ git+https://github.com/ibm-granite/granite-tsfm.git@v0.2.12) (6.1.0)\n",
            "Requirement already satisfied: nbconvert in /usr/local/lib/python3.10/dist-packages (from jupyter->tsfm_public@ git+https://github.com/ibm-granite/granite-tsfm.git@v0.2.12->tsfm_public[notebooks]@ git+https://github.com/ibm-granite/granite-tsfm.git@v0.2.12) (7.16.4)\n",
            "Collecting jupyterlab (from jupyter->tsfm_public@ git+https://github.com/ibm-granite/granite-tsfm.git@v0.2.12->tsfm_public[notebooks]@ git+https://github.com/ibm-granite/granite-tsfm.git@v0.2.12)\n",
            "  Downloading jupyterlab-4.3.2-py3-none-any.whl.metadata (16 kB)\n",
            "Requirement already satisfied: contourpy>=1.0.1 in /usr/local/lib/python3.10/dist-packages (from matplotlib->tsfm_public@ git+https://github.com/ibm-granite/granite-tsfm.git@v0.2.12->tsfm_public[notebooks]@ git+https://github.com/ibm-granite/granite-tsfm.git@v0.2.12) (1.3.1)\n",
            "Requirement already satisfied: cycler>=0.10 in /usr/local/lib/python3.10/dist-packages (from matplotlib->tsfm_public@ git+https://github.com/ibm-granite/granite-tsfm.git@v0.2.12->tsfm_public[notebooks]@ git+https://github.com/ibm-granite/granite-tsfm.git@v0.2.12) (0.12.1)\n",
            "Requirement already satisfied: fonttools>=4.22.0 in /usr/local/lib/python3.10/dist-packages (from matplotlib->tsfm_public@ git+https://github.com/ibm-granite/granite-tsfm.git@v0.2.12->tsfm_public[notebooks]@ git+https://github.com/ibm-granite/granite-tsfm.git@v0.2.12) (4.55.1)\n",
            "Requirement already satisfied: kiwisolver>=1.0.1 in /usr/local/lib/python3.10/dist-packages (from matplotlib->tsfm_public@ git+https://github.com/ibm-granite/granite-tsfm.git@v0.2.12->tsfm_public[notebooks]@ git+https://github.com/ibm-granite/granite-tsfm.git@v0.2.12) (1.4.7)\n",
            "Requirement already satisfied: pillow>=6.2.0 in /usr/local/lib/python3.10/dist-packages (from matplotlib->tsfm_public@ git+https://github.com/ibm-granite/granite-tsfm.git@v0.2.12->tsfm_public[notebooks]@ git+https://github.com/ibm-granite/granite-tsfm.git@v0.2.12) (11.0.0)\n",
            "Requirement already satisfied: pyparsing>=2.3.1 in /usr/local/lib/python3.10/dist-packages (from matplotlib->tsfm_public@ git+https://github.com/ibm-granite/granite-tsfm.git@v0.2.12->tsfm_public[notebooks]@ git+https://github.com/ibm-granite/granite-tsfm.git@v0.2.12) (3.2.0)\n",
            "Requirement already satisfied: tenacity>=6.2.0 in /usr/local/lib/python3.10/dist-packages (from plotly->tsfm_public@ git+https://github.com/ibm-granite/granite-tsfm.git@v0.2.12->tsfm_public[notebooks]@ git+https://github.com/ibm-granite/granite-tsfm.git@v0.2.12) (9.0.0)\n",
            "Requirement already satisfied: scipy>=1.6.0 in /usr/local/lib/python3.10/dist-packages (from scikit-learn->tsfm_public@ git+https://github.com/ibm-granite/granite-tsfm.git@v0.2.12->tsfm_public[notebooks]@ git+https://github.com/ibm-granite/granite-tsfm.git@v0.2.12) (1.13.1)\n",
            "Requirement already satisfied: joblib>=1.2.0 in /usr/local/lib/python3.10/dist-packages (from scikit-learn->tsfm_public@ git+https://github.com/ibm-granite/granite-tsfm.git@v0.2.12->tsfm_public[notebooks]@ git+https://github.com/ibm-granite/granite-tsfm.git@v0.2.12) (1.4.2)\n",
            "Requirement already satisfied: threadpoolctl>=3.1.0 in /usr/local/lib/python3.10/dist-packages (from scikit-learn->tsfm_public@ git+https://github.com/ibm-granite/granite-tsfm.git@v0.2.12->tsfm_public[notebooks]@ git+https://github.com/ibm-granite/granite-tsfm.git@v0.2.12) (3.5.0)\n",
            "Requirement already satisfied: absl-py>=0.4 in /usr/local/lib/python3.10/dist-packages (from tensorboard->tsfm_public@ git+https://github.com/ibm-granite/granite-tsfm.git@v0.2.12->tsfm_public[notebooks]@ git+https://github.com/ibm-granite/granite-tsfm.git@v0.2.12) (1.4.0)\n",
            "Requirement already satisfied: grpcio>=1.48.2 in /usr/local/lib/python3.10/dist-packages (from tensorboard->tsfm_public@ git+https://github.com/ibm-granite/granite-tsfm.git@v0.2.12->tsfm_public[notebooks]@ git+https://github.com/ibm-granite/granite-tsfm.git@v0.2.12) (1.68.1)\n",
            "Requirement already satisfied: markdown>=2.6.8 in /usr/local/lib/python3.10/dist-packages (from tensorboard->tsfm_public@ git+https://github.com/ibm-granite/granite-tsfm.git@v0.2.12->tsfm_public[notebooks]@ git+https://github.com/ibm-granite/granite-tsfm.git@v0.2.12) (3.7)\n",
            "Requirement already satisfied: protobuf!=4.24.0,>=3.19.6 in /usr/local/lib/python3.10/dist-packages (from tensorboard->tsfm_public@ git+https://github.com/ibm-granite/granite-tsfm.git@v0.2.12->tsfm_public[notebooks]@ git+https://github.com/ibm-granite/granite-tsfm.git@v0.2.12) (4.25.5)\n",
            "Requirement already satisfied: setuptools>=41.0.0 in /usr/local/lib/python3.10/dist-packages (from tensorboard->tsfm_public@ git+https://github.com/ibm-granite/granite-tsfm.git@v0.2.12->tsfm_public[notebooks]@ git+https://github.com/ibm-granite/granite-tsfm.git@v0.2.12) (75.1.0)\n",
            "Requirement already satisfied: six>1.9 in /usr/local/lib/python3.10/dist-packages (from tensorboard->tsfm_public@ git+https://github.com/ibm-granite/granite-tsfm.git@v0.2.12->tsfm_public[notebooks]@ git+https://github.com/ibm-granite/granite-tsfm.git@v0.2.12) (1.16.0)\n",
            "Requirement already satisfied: tensorboard-data-server<0.8.0,>=0.7.0 in /usr/local/lib/python3.10/dist-packages (from tensorboard->tsfm_public@ git+https://github.com/ibm-granite/granite-tsfm.git@v0.2.12->tsfm_public[notebooks]@ git+https://github.com/ibm-granite/granite-tsfm.git@v0.2.12) (0.7.2)\n",
            "Requirement already satisfied: werkzeug>=1.0.1 in /usr/local/lib/python3.10/dist-packages (from tensorboard->tsfm_public@ git+https://github.com/ibm-granite/granite-tsfm.git@v0.2.12->tsfm_public[notebooks]@ git+https://github.com/ibm-granite/granite-tsfm.git@v0.2.12) (3.1.3)\n",
            "Requirement already satisfied: psutil in /usr/local/lib/python3.10/dist-packages (from accelerate>=0.26.0->transformers[torch]>=4.38.0->tsfm_public@ git+https://github.com/ibm-granite/granite-tsfm.git@v0.2.12->tsfm_public[notebooks]@ git+https://github.com/ibm-granite/granite-tsfm.git@v0.2.12) (5.9.5)\n",
            "Requirement already satisfied: aiohappyeyeballs>=2.3.0 in /usr/local/lib/python3.10/dist-packages (from aiohttp->datasets->tsfm_public@ git+https://github.com/ibm-granite/granite-tsfm.git@v0.2.12->tsfm_public[notebooks]@ git+https://github.com/ibm-granite/granite-tsfm.git@v0.2.12) (2.4.4)\n",
            "Requirement already satisfied: aiosignal>=1.1.2 in /usr/local/lib/python3.10/dist-packages (from aiohttp->datasets->tsfm_public@ git+https://github.com/ibm-granite/granite-tsfm.git@v0.2.12->tsfm_public[notebooks]@ git+https://github.com/ibm-granite/granite-tsfm.git@v0.2.12) (1.3.1)\n",
            "Requirement already satisfied: async-timeout<6.0,>=4.0 in /usr/local/lib/python3.10/dist-packages (from aiohttp->datasets->tsfm_public@ git+https://github.com/ibm-granite/granite-tsfm.git@v0.2.12->tsfm_public[notebooks]@ git+https://github.com/ibm-granite/granite-tsfm.git@v0.2.12) (4.0.3)\n",
            "Requirement already satisfied: attrs>=17.3.0 in /usr/local/lib/python3.10/dist-packages (from aiohttp->datasets->tsfm_public@ git+https://github.com/ibm-granite/granite-tsfm.git@v0.2.12->tsfm_public[notebooks]@ git+https://github.com/ibm-granite/granite-tsfm.git@v0.2.12) (24.2.0)\n",
            "Requirement already satisfied: frozenlist>=1.1.1 in /usr/local/lib/python3.10/dist-packages (from aiohttp->datasets->tsfm_public@ git+https://github.com/ibm-granite/granite-tsfm.git@v0.2.12->tsfm_public[notebooks]@ git+https://github.com/ibm-granite/granite-tsfm.git@v0.2.12) (1.5.0)\n",
            "Requirement already satisfied: multidict<7.0,>=4.5 in /usr/local/lib/python3.10/dist-packages (from aiohttp->datasets->tsfm_public@ git+https://github.com/ibm-granite/granite-tsfm.git@v0.2.12->tsfm_public[notebooks]@ git+https://github.com/ibm-granite/granite-tsfm.git@v0.2.12) (6.1.0)\n",
            "Requirement already satisfied: propcache>=0.2.0 in /usr/local/lib/python3.10/dist-packages (from aiohttp->datasets->tsfm_public@ git+https://github.com/ibm-granite/granite-tsfm.git@v0.2.12->tsfm_public[notebooks]@ git+https://github.com/ibm-granite/granite-tsfm.git@v0.2.12) (0.2.1)\n",
            "Requirement already satisfied: yarl<2.0,>=1.17.0 in /usr/local/lib/python3.10/dist-packages (from aiohttp->datasets->tsfm_public@ git+https://github.com/ibm-granite/granite-tsfm.git@v0.2.12->tsfm_public[notebooks]@ git+https://github.com/ibm-granite/granite-tsfm.git@v0.2.12) (1.18.3)\n",
            "Requirement already satisfied: typing-extensions>=3.7.4.3 in /usr/local/lib/python3.10/dist-packages (from huggingface-hub<1.0,>=0.23.2->transformers>=4.38.0->transformers[torch]>=4.38.0->tsfm_public@ git+https://github.com/ibm-granite/granite-tsfm.git@v0.2.12->tsfm_public[notebooks]@ git+https://github.com/ibm-granite/granite-tsfm.git@v0.2.12) (4.12.2)\n",
            "Requirement already satisfied: jupyter-client in /usr/local/lib/python3.10/dist-packages (from ipykernel>=4.5.1->ipywidgets->tsfm_public@ git+https://github.com/ibm-granite/granite-tsfm.git@v0.2.12->tsfm_public[notebooks]@ git+https://github.com/ibm-granite/granite-tsfm.git@v0.2.12) (6.1.12)\n",
            "Requirement already satisfied: tornado>=4.2 in /usr/local/lib/python3.10/dist-packages (from ipykernel>=4.5.1->ipywidgets->tsfm_public@ git+https://github.com/ibm-granite/granite-tsfm.git@v0.2.12->tsfm_public[notebooks]@ git+https://github.com/ibm-granite/granite-tsfm.git@v0.2.12) (6.3.3)\n",
            "Collecting jedi>=0.16 (from ipython>=4.0.0->ipywidgets->tsfm_public@ git+https://github.com/ibm-granite/granite-tsfm.git@v0.2.12->tsfm_public[notebooks]@ git+https://github.com/ibm-granite/granite-tsfm.git@v0.2.12)\n",
            "  Downloading jedi-0.19.2-py2.py3-none-any.whl.metadata (22 kB)\n",
            "Requirement already satisfied: decorator in /usr/local/lib/python3.10/dist-packages (from ipython>=4.0.0->ipywidgets->tsfm_public@ git+https://github.com/ibm-granite/granite-tsfm.git@v0.2.12->tsfm_public[notebooks]@ git+https://github.com/ibm-granite/granite-tsfm.git@v0.2.12) (4.4.2)\n",
            "Requirement already satisfied: pickleshare in /usr/local/lib/python3.10/dist-packages (from ipython>=4.0.0->ipywidgets->tsfm_public@ git+https://github.com/ibm-granite/granite-tsfm.git@v0.2.12->tsfm_public[notebooks]@ git+https://github.com/ibm-granite/granite-tsfm.git@v0.2.12) (0.7.5)\n",
            "Requirement already satisfied: prompt-toolkit!=3.0.0,!=3.0.1,<3.1.0,>=2.0.0 in /usr/local/lib/python3.10/dist-packages (from ipython>=4.0.0->ipywidgets->tsfm_public@ git+https://github.com/ibm-granite/granite-tsfm.git@v0.2.12->tsfm_public[notebooks]@ git+https://github.com/ibm-granite/granite-tsfm.git@v0.2.12) (3.0.48)\n",
            "Requirement already satisfied: pygments in /usr/local/lib/python3.10/dist-packages (from ipython>=4.0.0->ipywidgets->tsfm_public@ git+https://github.com/ibm-granite/granite-tsfm.git@v0.2.12->tsfm_public[notebooks]@ git+https://github.com/ibm-granite/granite-tsfm.git@v0.2.12) (2.18.0)\n",
            "Requirement already satisfied: backcall in /usr/local/lib/python3.10/dist-packages (from ipython>=4.0.0->ipywidgets->tsfm_public@ git+https://github.com/ibm-granite/granite-tsfm.git@v0.2.12->tsfm_public[notebooks]@ git+https://github.com/ibm-granite/granite-tsfm.git@v0.2.12) (0.2.0)\n",
            "Requirement already satisfied: matplotlib-inline in /usr/local/lib/python3.10/dist-packages (from ipython>=4.0.0->ipywidgets->tsfm_public@ git+https://github.com/ibm-granite/granite-tsfm.git@v0.2.12->tsfm_public[notebooks]@ git+https://github.com/ibm-granite/granite-tsfm.git@v0.2.12) (0.1.7)\n",
            "Requirement already satisfied: pexpect>4.3 in /usr/local/lib/python3.10/dist-packages (from ipython>=4.0.0->ipywidgets->tsfm_public@ git+https://github.com/ibm-granite/granite-tsfm.git@v0.2.12->tsfm_public[notebooks]@ git+https://github.com/ibm-granite/granite-tsfm.git@v0.2.12) (4.9.0)\n",
            "Requirement already satisfied: charset-normalizer<4,>=2 in /usr/local/lib/python3.10/dist-packages (from requests->transformers>=4.38.0->transformers[torch]>=4.38.0->tsfm_public@ git+https://github.com/ibm-granite/granite-tsfm.git@v0.2.12->tsfm_public[notebooks]@ git+https://github.com/ibm-granite/granite-tsfm.git@v0.2.12) (3.4.0)\n",
            "Requirement already satisfied: idna<4,>=2.5 in /usr/local/lib/python3.10/dist-packages (from requests->transformers>=4.38.0->transformers[torch]>=4.38.0->tsfm_public@ git+https://github.com/ibm-granite/granite-tsfm.git@v0.2.12->tsfm_public[notebooks]@ git+https://github.com/ibm-granite/granite-tsfm.git@v0.2.12) (3.10)\n",
            "Requirement already satisfied: certifi>=2017.4.17 in /usr/local/lib/python3.10/dist-packages (from requests->transformers>=4.38.0->transformers[torch]>=4.38.0->tsfm_public@ git+https://github.com/ibm-granite/granite-tsfm.git@v0.2.12->tsfm_public[notebooks]@ git+https://github.com/ibm-granite/granite-tsfm.git@v0.2.12) (2024.8.30)\n",
            "Requirement already satisfied: networkx in /usr/local/lib/python3.10/dist-packages (from torch->transformers[torch]>=4.38.0->tsfm_public@ git+https://github.com/ibm-granite/granite-tsfm.git@v0.2.12->tsfm_public[notebooks]@ git+https://github.com/ibm-granite/granite-tsfm.git@v0.2.12) (3.4.2)\n",
            "Requirement already satisfied: jinja2 in /usr/local/lib/python3.10/dist-packages (from torch->transformers[torch]>=4.38.0->tsfm_public@ git+https://github.com/ibm-granite/granite-tsfm.git@v0.2.12->tsfm_public[notebooks]@ git+https://github.com/ibm-granite/granite-tsfm.git@v0.2.12) (3.1.4)\n",
            "Requirement already satisfied: sympy==1.13.1 in /usr/local/lib/python3.10/dist-packages (from torch->transformers[torch]>=4.38.0->tsfm_public@ git+https://github.com/ibm-granite/granite-tsfm.git@v0.2.12->tsfm_public[notebooks]@ git+https://github.com/ibm-granite/granite-tsfm.git@v0.2.12) (1.13.1)\n",
            "Requirement already satisfied: mpmath<1.4,>=1.1.0 in /usr/local/lib/python3.10/dist-packages (from sympy==1.13.1->torch->transformers[torch]>=4.38.0->tsfm_public@ git+https://github.com/ibm-granite/granite-tsfm.git@v0.2.12->tsfm_public[notebooks]@ git+https://github.com/ibm-granite/granite-tsfm.git@v0.2.12) (1.3.0)\n",
            "Requirement already satisfied: MarkupSafe>=2.1.1 in /usr/local/lib/python3.10/dist-packages (from werkzeug>=1.0.1->tensorboard->tsfm_public@ git+https://github.com/ibm-granite/granite-tsfm.git@v0.2.12->tsfm_public[notebooks]@ git+https://github.com/ibm-granite/granite-tsfm.git@v0.2.12) (3.0.2)\n",
            "Requirement already satisfied: pyzmq<25,>=17 in /usr/local/lib/python3.10/dist-packages (from notebook->jupyter->tsfm_public@ git+https://github.com/ibm-granite/granite-tsfm.git@v0.2.12->tsfm_public[notebooks]@ git+https://github.com/ibm-granite/granite-tsfm.git@v0.2.12) (24.0.1)\n",
            "Requirement already satisfied: argon2-cffi in /usr/local/lib/python3.10/dist-packages (from notebook->jupyter->tsfm_public@ git+https://github.com/ibm-granite/granite-tsfm.git@v0.2.12->tsfm_public[notebooks]@ git+https://github.com/ibm-granite/granite-tsfm.git@v0.2.12) (23.1.0)\n",
            "Requirement already satisfied: jupyter-core>=4.6.1 in /usr/local/lib/python3.10/dist-packages (from notebook->jupyter->tsfm_public@ git+https://github.com/ibm-granite/granite-tsfm.git@v0.2.12->tsfm_public[notebooks]@ git+https://github.com/ibm-granite/granite-tsfm.git@v0.2.12) (5.7.2)\n",
            "Requirement already satisfied: nbformat in /usr/local/lib/python3.10/dist-packages (from notebook->jupyter->tsfm_public@ git+https://github.com/ibm-granite/granite-tsfm.git@v0.2.12->tsfm_public[notebooks]@ git+https://github.com/ibm-granite/granite-tsfm.git@v0.2.12) (5.10.4)\n",
            "Requirement already satisfied: nest-asyncio>=1.5 in /usr/local/lib/python3.10/dist-packages (from notebook->jupyter->tsfm_public@ git+https://github.com/ibm-granite/granite-tsfm.git@v0.2.12->tsfm_public[notebooks]@ git+https://github.com/ibm-granite/granite-tsfm.git@v0.2.12) (1.6.0)\n",
            "Requirement already satisfied: Send2Trash>=1.8.0 in /usr/local/lib/python3.10/dist-packages (from notebook->jupyter->tsfm_public@ git+https://github.com/ibm-granite/granite-tsfm.git@v0.2.12->tsfm_public[notebooks]@ git+https://github.com/ibm-granite/granite-tsfm.git@v0.2.12) (1.8.3)\n",
            "Requirement already satisfied: terminado>=0.8.3 in /usr/local/lib/python3.10/dist-packages (from notebook->jupyter->tsfm_public@ git+https://github.com/ibm-granite/granite-tsfm.git@v0.2.12->tsfm_public[notebooks]@ git+https://github.com/ibm-granite/granite-tsfm.git@v0.2.12) (0.18.1)\n",
            "Requirement already satisfied: prometheus-client in /usr/local/lib/python3.10/dist-packages (from notebook->jupyter->tsfm_public@ git+https://github.com/ibm-granite/granite-tsfm.git@v0.2.12->tsfm_public[notebooks]@ git+https://github.com/ibm-granite/granite-tsfm.git@v0.2.12) (0.21.1)\n",
            "Requirement already satisfied: nbclassic>=0.4.7 in /usr/local/lib/python3.10/dist-packages (from notebook->jupyter->tsfm_public@ git+https://github.com/ibm-granite/granite-tsfm.git@v0.2.12->tsfm_public[notebooks]@ git+https://github.com/ibm-granite/granite-tsfm.git@v0.2.12) (1.1.0)\n",
            "Requirement already satisfied: beautifulsoup4 in /usr/local/lib/python3.10/dist-packages (from nbconvert->jupyter->tsfm_public@ git+https://github.com/ibm-granite/granite-tsfm.git@v0.2.12->tsfm_public[notebooks]@ git+https://github.com/ibm-granite/granite-tsfm.git@v0.2.12) (4.12.3)\n",
            "Requirement already satisfied: bleach!=5.0.0 in /usr/local/lib/python3.10/dist-packages (from nbconvert->jupyter->tsfm_public@ git+https://github.com/ibm-granite/granite-tsfm.git@v0.2.12->tsfm_public[notebooks]@ git+https://github.com/ibm-granite/granite-tsfm.git@v0.2.12) (6.2.0)\n",
            "Requirement already satisfied: defusedxml in /usr/local/lib/python3.10/dist-packages (from nbconvert->jupyter->tsfm_public@ git+https://github.com/ibm-granite/granite-tsfm.git@v0.2.12->tsfm_public[notebooks]@ git+https://github.com/ibm-granite/granite-tsfm.git@v0.2.12) (0.7.1)\n",
            "Requirement already satisfied: jupyterlab-pygments in /usr/local/lib/python3.10/dist-packages (from nbconvert->jupyter->tsfm_public@ git+https://github.com/ibm-granite/granite-tsfm.git@v0.2.12->tsfm_public[notebooks]@ git+https://github.com/ibm-granite/granite-tsfm.git@v0.2.12) (0.3.0)\n",
            "Requirement already satisfied: mistune<4,>=2.0.3 in /usr/local/lib/python3.10/dist-packages (from nbconvert->jupyter->tsfm_public@ git+https://github.com/ibm-granite/granite-tsfm.git@v0.2.12->tsfm_public[notebooks]@ git+https://github.com/ibm-granite/granite-tsfm.git@v0.2.12) (3.0.2)\n",
            "Requirement already satisfied: nbclient>=0.5.0 in /usr/local/lib/python3.10/dist-packages (from nbconvert->jupyter->tsfm_public@ git+https://github.com/ibm-granite/granite-tsfm.git@v0.2.12->tsfm_public[notebooks]@ git+https://github.com/ibm-granite/granite-tsfm.git@v0.2.12) (0.10.1)\n",
            "Requirement already satisfied: pandocfilters>=1.4.1 in /usr/local/lib/python3.10/dist-packages (from nbconvert->jupyter->tsfm_public@ git+https://github.com/ibm-granite/granite-tsfm.git@v0.2.12->tsfm_public[notebooks]@ git+https://github.com/ibm-granite/granite-tsfm.git@v0.2.12) (1.5.1)\n",
            "Requirement already satisfied: tinycss2 in /usr/local/lib/python3.10/dist-packages (from nbconvert->jupyter->tsfm_public@ git+https://github.com/ibm-granite/granite-tsfm.git@v0.2.12->tsfm_public[notebooks]@ git+https://github.com/ibm-granite/granite-tsfm.git@v0.2.12) (1.4.0)\n",
            "Collecting async-lru>=1.0.0 (from jupyterlab->jupyter->tsfm_public@ git+https://github.com/ibm-granite/granite-tsfm.git@v0.2.12->tsfm_public[notebooks]@ git+https://github.com/ibm-granite/granite-tsfm.git@v0.2.12)\n",
            "  Downloading async_lru-2.0.4-py3-none-any.whl.metadata (4.5 kB)\n",
            "Requirement already satisfied: httpx~=0.28.0 in /usr/local/lib/python3.10/dist-packages (from jupyterlab->jupyter->tsfm_public@ git+https://github.com/ibm-granite/granite-tsfm.git@v0.2.12->tsfm_public[notebooks]@ git+https://github.com/ibm-granite/granite-tsfm.git@v0.2.12) (0.28.0)\n",
            "Collecting ipykernel>=4.5.1 (from ipywidgets->tsfm_public@ git+https://github.com/ibm-granite/granite-tsfm.git@v0.2.12->tsfm_public[notebooks]@ git+https://github.com/ibm-granite/granite-tsfm.git@v0.2.12)\n",
            "  Downloading ipykernel-6.29.5-py3-none-any.whl.metadata (6.3 kB)\n",
            "Collecting jupyter-lsp>=2.0.0 (from jupyterlab->jupyter->tsfm_public@ git+https://github.com/ibm-granite/granite-tsfm.git@v0.2.12->tsfm_public[notebooks]@ git+https://github.com/ibm-granite/granite-tsfm.git@v0.2.12)\n",
            "  Downloading jupyter_lsp-2.2.5-py3-none-any.whl.metadata (1.8 kB)\n",
            "Collecting jupyter-server<3,>=2.4.0 (from jupyterlab->jupyter->tsfm_public@ git+https://github.com/ibm-granite/granite-tsfm.git@v0.2.12->tsfm_public[notebooks]@ git+https://github.com/ibm-granite/granite-tsfm.git@v0.2.12)\n",
            "  Downloading jupyter_server-2.14.2-py3-none-any.whl.metadata (8.4 kB)\n",
            "Collecting jupyterlab-server<3,>=2.27.1 (from jupyterlab->jupyter->tsfm_public@ git+https://github.com/ibm-granite/granite-tsfm.git@v0.2.12->tsfm_public[notebooks]@ git+https://github.com/ibm-granite/granite-tsfm.git@v0.2.12)\n",
            "  Downloading jupyterlab_server-2.27.3-py3-none-any.whl.metadata (5.9 kB)\n",
            "Requirement already satisfied: notebook-shim>=0.2 in /usr/local/lib/python3.10/dist-packages (from jupyterlab->jupyter->tsfm_public@ git+https://github.com/ibm-granite/granite-tsfm.git@v0.2.12->tsfm_public[notebooks]@ git+https://github.com/ibm-granite/granite-tsfm.git@v0.2.12) (0.2.4)\n",
            "Requirement already satisfied: tomli>=1.2.2 in /usr/local/lib/python3.10/dist-packages (from jupyterlab->jupyter->tsfm_public@ git+https://github.com/ibm-granite/granite-tsfm.git@v0.2.12->tsfm_public[notebooks]@ git+https://github.com/ibm-granite/granite-tsfm.git@v0.2.12) (2.2.1)\n",
            "Collecting comm>=0.1.1 (from ipykernel>=4.5.1->ipywidgets->tsfm_public@ git+https://github.com/ibm-granite/granite-tsfm.git@v0.2.12->tsfm_public[notebooks]@ git+https://github.com/ibm-granite/granite-tsfm.git@v0.2.12)\n",
            "  Downloading comm-0.2.2-py3-none-any.whl.metadata (3.7 kB)\n",
            "Requirement already satisfied: debugpy>=1.6.5 in /usr/local/lib/python3.10/dist-packages (from ipykernel>=4.5.1->ipywidgets->tsfm_public@ git+https://github.com/ibm-granite/granite-tsfm.git@v0.2.12->tsfm_public[notebooks]@ git+https://github.com/ibm-granite/granite-tsfm.git@v0.2.12) (1.8.0)\n",
            "Requirement already satisfied: webencodings in /usr/local/lib/python3.10/dist-packages (from bleach!=5.0.0->nbconvert->jupyter->tsfm_public@ git+https://github.com/ibm-granite/granite-tsfm.git@v0.2.12->tsfm_public[notebooks]@ git+https://github.com/ibm-granite/granite-tsfm.git@v0.2.12) (0.5.1)\n",
            "Requirement already satisfied: anyio in /usr/local/lib/python3.10/dist-packages (from httpx~=0.28.0->jupyterlab->jupyter->tsfm_public@ git+https://github.com/ibm-granite/granite-tsfm.git@v0.2.12->tsfm_public[notebooks]@ git+https://github.com/ibm-granite/granite-tsfm.git@v0.2.12) (3.7.1)\n",
            "Requirement already satisfied: httpcore==1.* in /usr/local/lib/python3.10/dist-packages (from httpx~=0.28.0->jupyterlab->jupyter->tsfm_public@ git+https://github.com/ibm-granite/granite-tsfm.git@v0.2.12->tsfm_public[notebooks]@ git+https://github.com/ibm-granite/granite-tsfm.git@v0.2.12) (1.0.7)\n",
            "Requirement already satisfied: h11<0.15,>=0.13 in /usr/local/lib/python3.10/dist-packages (from httpcore==1.*->httpx~=0.28.0->jupyterlab->jupyter->tsfm_public@ git+https://github.com/ibm-granite/granite-tsfm.git@v0.2.12->tsfm_public[notebooks]@ git+https://github.com/ibm-granite/granite-tsfm.git@v0.2.12) (0.14.0)\n",
            "Requirement already satisfied: parso<0.9.0,>=0.8.4 in /usr/local/lib/python3.10/dist-packages (from jedi>=0.16->ipython>=4.0.0->ipywidgets->tsfm_public@ git+https://github.com/ibm-granite/granite-tsfm.git@v0.2.12->tsfm_public[notebooks]@ git+https://github.com/ibm-granite/granite-tsfm.git@v0.2.12) (0.8.4)\n",
            "Requirement already satisfied: platformdirs>=2.5 in /usr/local/lib/python3.10/dist-packages (from jupyter-core>=4.6.1->notebook->jupyter->tsfm_public@ git+https://github.com/ibm-granite/granite-tsfm.git@v0.2.12->tsfm_public[notebooks]@ git+https://github.com/ibm-granite/granite-tsfm.git@v0.2.12) (4.3.6)\n",
            "Collecting jupyter-client<8,>=5.3.4 (from notebook->jupyter->tsfm_public@ git+https://github.com/ibm-granite/granite-tsfm.git@v0.2.12->tsfm_public[notebooks]@ git+https://github.com/ibm-granite/granite-tsfm.git@v0.2.12)\n",
            "  Downloading jupyter_client-7.4.9-py3-none-any.whl.metadata (8.5 kB)\n",
            "Collecting jupyter-events>=0.9.0 (from jupyter-server<3,>=2.4.0->jupyterlab->jupyter->tsfm_public@ git+https://github.com/ibm-granite/granite-tsfm.git@v0.2.12->tsfm_public[notebooks]@ git+https://github.com/ibm-granite/granite-tsfm.git@v0.2.12)\n",
            "  Downloading jupyter_events-0.10.0-py3-none-any.whl.metadata (5.9 kB)\n",
            "Collecting jupyter-server-terminals>=0.4.4 (from jupyter-server<3,>=2.4.0->jupyterlab->jupyter->tsfm_public@ git+https://github.com/ibm-granite/granite-tsfm.git@v0.2.12->tsfm_public[notebooks]@ git+https://github.com/ibm-granite/granite-tsfm.git@v0.2.12)\n",
            "  Downloading jupyter_server_terminals-0.5.3-py3-none-any.whl.metadata (5.6 kB)\n",
            "Collecting overrides>=5.0 (from jupyter-server<3,>=2.4.0->jupyterlab->jupyter->tsfm_public@ git+https://github.com/ibm-granite/granite-tsfm.git@v0.2.12->tsfm_public[notebooks]@ git+https://github.com/ibm-granite/granite-tsfm.git@v0.2.12)\n",
            "  Downloading overrides-7.7.0-py3-none-any.whl.metadata (5.8 kB)\n",
            "Requirement already satisfied: websocket-client>=1.7 in /usr/local/lib/python3.10/dist-packages (from jupyter-server<3,>=2.4.0->jupyterlab->jupyter->tsfm_public@ git+https://github.com/ibm-granite/granite-tsfm.git@v0.2.12->tsfm_public[notebooks]@ git+https://github.com/ibm-granite/granite-tsfm.git@v0.2.12) (1.8.0)\n",
            "Requirement already satisfied: argon2-cffi-bindings in /usr/local/lib/python3.10/dist-packages (from argon2-cffi->notebook->jupyter->tsfm_public@ git+https://github.com/ibm-granite/granite-tsfm.git@v0.2.12->tsfm_public[notebooks]@ git+https://github.com/ibm-granite/granite-tsfm.git@v0.2.12) (21.2.0)\n",
            "Requirement already satisfied: entrypoints in /usr/local/lib/python3.10/dist-packages (from jupyter-client<8,>=5.3.4->notebook->jupyter->tsfm_public@ git+https://github.com/ibm-granite/granite-tsfm.git@v0.2.12->tsfm_public[notebooks]@ git+https://github.com/ibm-granite/granite-tsfm.git@v0.2.12) (0.4)\n",
            "Requirement already satisfied: babel>=2.10 in /usr/local/lib/python3.10/dist-packages (from jupyterlab-server<3,>=2.27.1->jupyterlab->jupyter->tsfm_public@ git+https://github.com/ibm-granite/granite-tsfm.git@v0.2.12->tsfm_public[notebooks]@ git+https://github.com/ibm-granite/granite-tsfm.git@v0.2.12) (2.16.0)\n",
            "Collecting json5>=0.9.0 (from jupyterlab-server<3,>=2.27.1->jupyterlab->jupyter->tsfm_public@ git+https://github.com/ibm-granite/granite-tsfm.git@v0.2.12->tsfm_public[notebooks]@ git+https://github.com/ibm-granite/granite-tsfm.git@v0.2.12)\n",
            "  Downloading json5-0.10.0-py3-none-any.whl.metadata (34 kB)\n",
            "Requirement already satisfied: jsonschema>=4.18.0 in /usr/local/lib/python3.10/dist-packages (from jupyterlab-server<3,>=2.27.1->jupyterlab->jupyter->tsfm_public@ git+https://github.com/ibm-granite/granite-tsfm.git@v0.2.12->tsfm_public[notebooks]@ git+https://github.com/ibm-granite/granite-tsfm.git@v0.2.12) (4.23.0)\n",
            "Requirement already satisfied: fastjsonschema>=2.15 in /usr/local/lib/python3.10/dist-packages (from nbformat->notebook->jupyter->tsfm_public@ git+https://github.com/ibm-granite/granite-tsfm.git@v0.2.12->tsfm_public[notebooks]@ git+https://github.com/ibm-granite/granite-tsfm.git@v0.2.12) (2.21.1)\n",
            "Requirement already satisfied: ptyprocess>=0.5 in /usr/local/lib/python3.10/dist-packages (from pexpect>4.3->ipython>=4.0.0->ipywidgets->tsfm_public@ git+https://github.com/ibm-granite/granite-tsfm.git@v0.2.12->tsfm_public[notebooks]@ git+https://github.com/ibm-granite/granite-tsfm.git@v0.2.12) (0.7.0)\n",
            "Requirement already satisfied: wcwidth in /usr/local/lib/python3.10/dist-packages (from prompt-toolkit!=3.0.0,!=3.0.1,<3.1.0,>=2.0.0->ipython>=4.0.0->ipywidgets->tsfm_public@ git+https://github.com/ibm-granite/granite-tsfm.git@v0.2.12->tsfm_public[notebooks]@ git+https://github.com/ibm-granite/granite-tsfm.git@v0.2.12) (0.2.13)\n",
            "Requirement already satisfied: soupsieve>1.2 in /usr/local/lib/python3.10/dist-packages (from beautifulsoup4->nbconvert->jupyter->tsfm_public@ git+https://github.com/ibm-granite/granite-tsfm.git@v0.2.12->tsfm_public[notebooks]@ git+https://github.com/ibm-granite/granite-tsfm.git@v0.2.12) (2.6)\n",
            "Requirement already satisfied: sniffio>=1.1 in /usr/local/lib/python3.10/dist-packages (from anyio->httpx~=0.28.0->jupyterlab->jupyter->tsfm_public@ git+https://github.com/ibm-granite/granite-tsfm.git@v0.2.12->tsfm_public[notebooks]@ git+https://github.com/ibm-granite/granite-tsfm.git@v0.2.12) (1.3.1)\n",
            "Requirement already satisfied: exceptiongroup in /usr/local/lib/python3.10/dist-packages (from anyio->httpx~=0.28.0->jupyterlab->jupyter->tsfm_public@ git+https://github.com/ibm-granite/granite-tsfm.git@v0.2.12->tsfm_public[notebooks]@ git+https://github.com/ibm-granite/granite-tsfm.git@v0.2.12) (1.2.2)\n",
            "Requirement already satisfied: jsonschema-specifications>=2023.03.6 in /usr/local/lib/python3.10/dist-packages (from jsonschema>=4.18.0->jupyterlab-server<3,>=2.27.1->jupyterlab->jupyter->tsfm_public@ git+https://github.com/ibm-granite/granite-tsfm.git@v0.2.12->tsfm_public[notebooks]@ git+https://github.com/ibm-granite/granite-tsfm.git@v0.2.12) (2024.10.1)\n",
            "Requirement already satisfied: referencing>=0.28.4 in /usr/local/lib/python3.10/dist-packages (from jsonschema>=4.18.0->jupyterlab-server<3,>=2.27.1->jupyterlab->jupyter->tsfm_public@ git+https://github.com/ibm-granite/granite-tsfm.git@v0.2.12->tsfm_public[notebooks]@ git+https://github.com/ibm-granite/granite-tsfm.git@v0.2.12) (0.35.1)\n",
            "Requirement already satisfied: rpds-py>=0.7.1 in /usr/local/lib/python3.10/dist-packages (from jsonschema>=4.18.0->jupyterlab-server<3,>=2.27.1->jupyterlab->jupyter->tsfm_public@ git+https://github.com/ibm-granite/granite-tsfm.git@v0.2.12->tsfm_public[notebooks]@ git+https://github.com/ibm-granite/granite-tsfm.git@v0.2.12) (0.22.3)\n",
            "Collecting python-json-logger>=2.0.4 (from jupyter-events>=0.9.0->jupyter-server<3,>=2.4.0->jupyterlab->jupyter->tsfm_public@ git+https://github.com/ibm-granite/granite-tsfm.git@v0.2.12->tsfm_public[notebooks]@ git+https://github.com/ibm-granite/granite-tsfm.git@v0.2.12)\n",
            "  Downloading python_json_logger-2.0.7-py3-none-any.whl.metadata (6.5 kB)\n",
            "Collecting rfc3339-validator (from jupyter-events>=0.9.0->jupyter-server<3,>=2.4.0->jupyterlab->jupyter->tsfm_public@ git+https://github.com/ibm-granite/granite-tsfm.git@v0.2.12->tsfm_public[notebooks]@ git+https://github.com/ibm-granite/granite-tsfm.git@v0.2.12)\n",
            "  Downloading rfc3339_validator-0.1.4-py2.py3-none-any.whl.metadata (1.5 kB)\n",
            "Collecting rfc3986-validator>=0.1.1 (from jupyter-events>=0.9.0->jupyter-server<3,>=2.4.0->jupyterlab->jupyter->tsfm_public@ git+https://github.com/ibm-granite/granite-tsfm.git@v0.2.12->tsfm_public[notebooks]@ git+https://github.com/ibm-granite/granite-tsfm.git@v0.2.12)\n",
            "  Downloading rfc3986_validator-0.1.1-py2.py3-none-any.whl.metadata (1.7 kB)\n",
            "Requirement already satisfied: cffi>=1.0.1 in /usr/local/lib/python3.10/dist-packages (from argon2-cffi-bindings->argon2-cffi->notebook->jupyter->tsfm_public@ git+https://github.com/ibm-granite/granite-tsfm.git@v0.2.12->tsfm_public[notebooks]@ git+https://github.com/ibm-granite/granite-tsfm.git@v0.2.12) (1.17.1)\n",
            "Requirement already satisfied: pycparser in /usr/local/lib/python3.10/dist-packages (from cffi>=1.0.1->argon2-cffi-bindings->argon2-cffi->notebook->jupyter->tsfm_public@ git+https://github.com/ibm-granite/granite-tsfm.git@v0.2.12->tsfm_public[notebooks]@ git+https://github.com/ibm-granite/granite-tsfm.git@v0.2.12) (2.22)\n",
            "Collecting fqdn (from jsonschema[format-nongpl]>=4.18.0->jupyter-events>=0.9.0->jupyter-server<3,>=2.4.0->jupyterlab->jupyter->tsfm_public@ git+https://github.com/ibm-granite/granite-tsfm.git@v0.2.12->tsfm_public[notebooks]@ git+https://github.com/ibm-granite/granite-tsfm.git@v0.2.12)\n",
            "  Downloading fqdn-1.5.1-py3-none-any.whl.metadata (1.4 kB)\n",
            "Collecting isoduration (from jsonschema[format-nongpl]>=4.18.0->jupyter-events>=0.9.0->jupyter-server<3,>=2.4.0->jupyterlab->jupyter->tsfm_public@ git+https://github.com/ibm-granite/granite-tsfm.git@v0.2.12->tsfm_public[notebooks]@ git+https://github.com/ibm-granite/granite-tsfm.git@v0.2.12)\n",
            "  Downloading isoduration-20.11.0-py3-none-any.whl.metadata (5.7 kB)\n",
            "Requirement already satisfied: jsonpointer>1.13 in /usr/local/lib/python3.10/dist-packages (from jsonschema[format-nongpl]>=4.18.0->jupyter-events>=0.9.0->jupyter-server<3,>=2.4.0->jupyterlab->jupyter->tsfm_public@ git+https://github.com/ibm-granite/granite-tsfm.git@v0.2.12->tsfm_public[notebooks]@ git+https://github.com/ibm-granite/granite-tsfm.git@v0.2.12) (3.0.0)\n",
            "Collecting uri-template (from jsonschema[format-nongpl]>=4.18.0->jupyter-events>=0.9.0->jupyter-server<3,>=2.4.0->jupyterlab->jupyter->tsfm_public@ git+https://github.com/ibm-granite/granite-tsfm.git@v0.2.12->tsfm_public[notebooks]@ git+https://github.com/ibm-granite/granite-tsfm.git@v0.2.12)\n",
            "  Downloading uri_template-1.3.0-py3-none-any.whl.metadata (8.8 kB)\n",
            "Requirement already satisfied: webcolors>=24.6.0 in /usr/local/lib/python3.10/dist-packages (from jsonschema[format-nongpl]>=4.18.0->jupyter-events>=0.9.0->jupyter-server<3,>=2.4.0->jupyterlab->jupyter->tsfm_public@ git+https://github.com/ibm-granite/granite-tsfm.git@v0.2.12->tsfm_public[notebooks]@ git+https://github.com/ibm-granite/granite-tsfm.git@v0.2.12) (24.11.1)\n",
            "Collecting arrow>=0.15.0 (from isoduration->jsonschema[format-nongpl]>=4.18.0->jupyter-events>=0.9.0->jupyter-server<3,>=2.4.0->jupyterlab->jupyter->tsfm_public@ git+https://github.com/ibm-granite/granite-tsfm.git@v0.2.12->tsfm_public[notebooks]@ git+https://github.com/ibm-granite/granite-tsfm.git@v0.2.12)\n",
            "  Downloading arrow-1.3.0-py3-none-any.whl.metadata (7.5 kB)\n",
            "Collecting types-python-dateutil>=2.8.10 (from arrow>=0.15.0->isoduration->jsonschema[format-nongpl]>=4.18.0->jupyter-events>=0.9.0->jupyter-server<3,>=2.4.0->jupyterlab->jupyter->tsfm_public@ git+https://github.com/ibm-granite/granite-tsfm.git@v0.2.12->tsfm_public[notebooks]@ git+https://github.com/ibm-granite/granite-tsfm.git@v0.2.12)\n",
            "  Downloading types_python_dateutil-2.9.0.20241206-py3-none-any.whl.metadata (2.1 kB)\n",
            "Downloading urllib3-1.26.20-py2.py3-none-any.whl (144 kB)\n",
            "\u001b[2K   \u001b[90m━━━━━━━━━━━━━━━━━━━━━━━━━━━━━━━━━━━━━━━━\u001b[0m \u001b[32m144.2/144.2 kB\u001b[0m \u001b[31m7.1 MB/s\u001b[0m eta \u001b[36m0:00:00\u001b[0m\n",
            "\u001b[?25hDownloading datasets-3.1.0-py3-none-any.whl (480 kB)\n",
            "\u001b[2K   \u001b[90m━━━━━━━━━━━━━━━━━━━━━━━━━━━━━━━━━━━━━━━━\u001b[0m \u001b[32m480.6/480.6 kB\u001b[0m \u001b[31m23.8 MB/s\u001b[0m eta \u001b[36m0:00:00\u001b[0m\n",
            "\u001b[?25hDownloading jupyter-1.1.1-py2.py3-none-any.whl (2.7 kB)\n",
            "Downloading kaleido-0.2.1-py2.py3-none-manylinux1_x86_64.whl (79.9 MB)\n",
            "\u001b[2K   \u001b[90m━━━━━━━━━━━━━━━━━━━━━━━━━━━━━━━━━━━━━━━━\u001b[0m \u001b[32m79.9/79.9 MB\u001b[0m \u001b[31m11.3 MB/s\u001b[0m eta \u001b[36m0:00:00\u001b[0m\n",
            "\u001b[?25hDownloading dill-0.3.8-py3-none-any.whl (116 kB)\n",
            "\u001b[2K   \u001b[90m━━━━━━━━━━━━━━━━━━━━━━━━━━━━━━━━━━━━━━━━\u001b[0m \u001b[32m116.3/116.3 kB\u001b[0m \u001b[31m8.4 MB/s\u001b[0m eta \u001b[36m0:00:00\u001b[0m\n",
            "\u001b[?25hDownloading fsspec-2024.9.0-py3-none-any.whl (179 kB)\n",
            "\u001b[2K   \u001b[90m━━━━━━━━━━━━━━━━━━━━━━━━━━━━━━━━━━━━━━━━\u001b[0m \u001b[32m179.3/179.3 kB\u001b[0m \u001b[31m13.6 MB/s\u001b[0m eta \u001b[36m0:00:00\u001b[0m\n",
            "\u001b[?25hDownloading multiprocess-0.70.16-py310-none-any.whl (134 kB)\n",
            "\u001b[2K   \u001b[90m━━━━━━━━━━━━━━━━━━━━━━━━━━━━━━━━━━━━━━━━\u001b[0m \u001b[32m134.8/134.8 kB\u001b[0m \u001b[31m10.6 MB/s\u001b[0m eta \u001b[36m0:00:00\u001b[0m\n",
            "\u001b[?25hDownloading jupyterlab-4.3.2-py3-none-any.whl (11.7 MB)\n",
            "\u001b[2K   \u001b[90m━━━━━━━━━━━━━━━━━━━━━━━━━━━━━━━━━━━━━━━━\u001b[0m \u001b[32m11.7/11.7 MB\u001b[0m \u001b[31m98.4 MB/s\u001b[0m eta \u001b[36m0:00:00\u001b[0m\n",
            "\u001b[?25hDownloading ipykernel-6.29.5-py3-none-any.whl (117 kB)\n",
            "\u001b[2K   \u001b[90m━━━━━━━━━━━━━━━━━━━━━━━━━━━━━━━━━━━━━━━━\u001b[0m \u001b[32m117.2/117.2 kB\u001b[0m \u001b[31m9.2 MB/s\u001b[0m eta \u001b[36m0:00:00\u001b[0m\n",
            "\u001b[?25hDownloading xxhash-3.5.0-cp310-cp310-manylinux_2_17_x86_64.manylinux2014_x86_64.whl (194 kB)\n",
            "\u001b[2K   \u001b[90m━━━━━━━━━━━━━━━━━━━━━━━━━━━━━━━━━━━━━━━━\u001b[0m \u001b[32m194.1/194.1 kB\u001b[0m \u001b[31m13.9 MB/s\u001b[0m eta \u001b[36m0:00:00\u001b[0m\n",
            "\u001b[?25hDownloading async_lru-2.0.4-py3-none-any.whl (6.1 kB)\n",
            "Downloading comm-0.2.2-py3-none-any.whl (7.2 kB)\n",
            "Downloading jedi-0.19.2-py2.py3-none-any.whl (1.6 MB)\n",
            "\u001b[2K   \u001b[90m━━━━━━━━━━━━━━━━━━━━━━━━━━━━━━━━━━━━━━━━\u001b[0m \u001b[32m1.6/1.6 MB\u001b[0m \u001b[31m56.7 MB/s\u001b[0m eta \u001b[36m0:00:00\u001b[0m\n",
            "\u001b[?25hDownloading jupyter_lsp-2.2.5-py3-none-any.whl (69 kB)\n",
            "\u001b[2K   \u001b[90m━━━━━━━━━━━━━━━━━━━━━━━━━━━━━━━━━━━━━━━━\u001b[0m \u001b[32m69.1/69.1 kB\u001b[0m \u001b[31m5.0 MB/s\u001b[0m eta \u001b[36m0:00:00\u001b[0m\n",
            "\u001b[?25hDownloading jupyter_server-2.14.2-py3-none-any.whl (383 kB)\n",
            "\u001b[2K   \u001b[90m━━━━━━━━━━━━━━━━━━━━━━━━━━━━━━━━━━━━━━━━\u001b[0m \u001b[32m383.6/383.6 kB\u001b[0m \u001b[31m24.9 MB/s\u001b[0m eta \u001b[36m0:00:00\u001b[0m\n",
            "\u001b[?25hDownloading jupyter_client-7.4.9-py3-none-any.whl (133 kB)\n",
            "\u001b[2K   \u001b[90m━━━━━━━━━━━━━━━━━━━━━━━━━━━━━━━━━━━━━━━━\u001b[0m \u001b[32m133.5/133.5 kB\u001b[0m \u001b[31m10.0 MB/s\u001b[0m eta \u001b[36m0:00:00\u001b[0m\n",
            "\u001b[?25hDownloading jupyterlab_server-2.27.3-py3-none-any.whl (59 kB)\n",
            "\u001b[2K   \u001b[90m━━━━━━━━━━━━━━━━━━━━━━━━━━━━━━━━━━━━━━━━\u001b[0m \u001b[32m59.7/59.7 kB\u001b[0m \u001b[31m4.6 MB/s\u001b[0m eta \u001b[36m0:00:00\u001b[0m\n",
            "\u001b[?25hDownloading json5-0.10.0-py3-none-any.whl (34 kB)\n",
            "Downloading jupyter_events-0.10.0-py3-none-any.whl (18 kB)\n",
            "Downloading jupyter_server_terminals-0.5.3-py3-none-any.whl (13 kB)\n",
            "Downloading overrides-7.7.0-py3-none-any.whl (17 kB)\n",
            "Downloading python_json_logger-2.0.7-py3-none-any.whl (8.1 kB)\n",
            "Downloading rfc3986_validator-0.1.1-py2.py3-none-any.whl (4.2 kB)\n",
            "Downloading rfc3339_validator-0.1.4-py2.py3-none-any.whl (3.5 kB)\n",
            "Downloading fqdn-1.5.1-py3-none-any.whl (9.1 kB)\n",
            "Downloading isoduration-20.11.0-py3-none-any.whl (11 kB)\n",
            "Downloading uri_template-1.3.0-py3-none-any.whl (11 kB)\n",
            "Downloading arrow-1.3.0-py3-none-any.whl (66 kB)\n",
            "\u001b[2K   \u001b[90m━━━━━━━━━━━━━━━━━━━━━━━━━━━━━━━━━━━━━━━━\u001b[0m \u001b[32m66.4/66.4 kB\u001b[0m \u001b[31m5.2 MB/s\u001b[0m eta \u001b[36m0:00:00\u001b[0m\n",
            "\u001b[?25hDownloading types_python_dateutil-2.9.0.20241206-py3-none-any.whl (14 kB)\n",
            "Building wheels for collected packages: tsfm_public\n",
            "  Building wheel for tsfm_public (pyproject.toml) ... \u001b[?25l\u001b[?25hdone\n",
            "  Created wheel for tsfm_public: filename=tsfm_public-0.2.12-py3-none-any.whl size=2330104 sha256=071e5849b44504e03adca99c5feb3dc33906b9556a8dba99abaa5e5168817cc6\n",
            "  Stored in directory: /tmp/pip-ephem-wheel-cache-m0dshkif/wheels/15/f6/cb/2377562ecbc392631cfd8a59b7d0a82ba419af7c6bc6dd4021\n",
            "Successfully built tsfm_public\n",
            "Installing collected packages: kaleido, xxhash, urllib3, uri-template, types-python-dateutil, rfc3986-validator, rfc3339-validator, python-json-logger, overrides, json5, jedi, fsspec, fqdn, dill, comm, async-lru, multiprocess, jupyter-server-terminals, jupyter-client, arrow, isoduration, ipykernel, jupyter-events, datasets, tsfm_public, jupyter-server, jupyterlab-server, jupyter-lsp, jupyterlab, jupyter\n",
            "  Attempting uninstall: urllib3\n",
            "    Found existing installation: urllib3 2.2.3\n",
            "    Uninstalling urllib3-2.2.3:\n",
            "      Successfully uninstalled urllib3-2.2.3\n",
            "  Attempting uninstall: fsspec\n",
            "    Found existing installation: fsspec 2024.10.0\n",
            "    Uninstalling fsspec-2024.10.0:\n",
            "      Successfully uninstalled fsspec-2024.10.0\n",
            "  Attempting uninstall: jupyter-client\n",
            "    Found existing installation: jupyter-client 6.1.12\n",
            "    Uninstalling jupyter-client-6.1.12:\n",
            "      Successfully uninstalled jupyter-client-6.1.12\n",
            "  Attempting uninstall: ipykernel\n",
            "    Found existing installation: ipykernel 5.5.6\n",
            "    Uninstalling ipykernel-5.5.6:\n",
            "      Successfully uninstalled ipykernel-5.5.6\n",
            "  Attempting uninstall: jupyter-server\n",
            "    Found existing installation: jupyter-server 1.24.0\n",
            "    Uninstalling jupyter-server-1.24.0:\n",
            "      Successfully uninstalled jupyter-server-1.24.0\n",
            "\u001b[31mERROR: pip's dependency resolver does not currently take into account all the packages that are installed. This behaviour is the source of the following dependency conflicts.\n",
            "gcsfs 2024.10.0 requires fsspec==2024.10.0, but you have fsspec 2024.9.0 which is incompatible.\n",
            "google-colab 1.0.0 requires ipykernel==5.5.6, but you have ipykernel 6.29.5 which is incompatible.\u001b[0m\u001b[31m\n",
            "\u001b[0mSuccessfully installed arrow-1.3.0 async-lru-2.0.4 comm-0.2.2 datasets-3.1.0 dill-0.3.8 fqdn-1.5.1 fsspec-2024.9.0 ipykernel-6.29.5 isoduration-20.11.0 jedi-0.19.2 json5-0.10.0 jupyter-1.1.1 jupyter-client-7.4.9 jupyter-events-0.10.0 jupyter-lsp-2.2.5 jupyter-server-2.14.2 jupyter-server-terminals-0.5.3 jupyterlab-4.3.2 jupyterlab-server-2.27.3 kaleido-0.2.1 multiprocess-0.70.16 overrides-7.7.0 python-json-logger-2.0.7 rfc3339-validator-0.1.4 rfc3986-validator-0.1.1 tsfm_public-0.2.12 types-python-dateutil-2.9.0.20241206 uri-template-1.3.0 urllib3-1.26.20 xxhash-3.5.0\n"
          ]
        }
      ],
      "source": [
        "# Install the tsfm library\n",
        "! pip install \"tsfm_public[notebooks] @ git+https://github.com/ibm-granite/granite-tsfm.git@v0.2.12\" -U"
      ]
    },
    {
      "cell_type": "markdown",
      "metadata": {
        "id": "gbN0apGzePxX"
      },
      "source": [
        "### Import Packages\n",
        "\n",
        "From `tsfm_public`, we use the TinyTimeMixer model, forecasting pipeline, and plotting function.\n"
      ]
    },
    {
      "cell_type": "code",
      "execution_count": 2,
      "metadata": {
        "id": "_Mvl2pLuePxY"
      },
      "outputs": [],
      "source": [
        "import math\n",
        "import os\n",
        "\n",
        "import numpy as np\n",
        "import pandas as pd\n",
        "from torch.optim import AdamW\n",
        "from torch.optim.lr_scheduler import OneCycleLR\n",
        "from transformers import EarlyStoppingCallback, Trainer, TrainingArguments, set_seed\n",
        "\n",
        "from tsfm_public import (\n",
        "    TimeSeriesForecastingPipeline,\n",
        "    TimeSeriesPreprocessor,\n",
        "    TinyTimeMixerForPrediction,\n",
        "    TrackingCallback,\n",
        "    count_parameters,\n",
        "    get_datasets,\n",
        ")\n",
        "from tsfm_public.toolkit.time_series_preprocessor import prepare_data_splits\n",
        "from tsfm_public.toolkit.visualization import plot_predictions"
      ]
    },
    {
      "cell_type": "markdown",
      "metadata": {
        "id": "UC8oOuqxePxZ"
      },
      "source": [
        "### Specify configuration variables\n",
        "\n",
        "We provide the names of the timestamp column and the target column to be predicted. The context length (in time steps) is set to match the pretrained model."
      ]
    },
    {
      "cell_type": "code",
      "execution_count": 3,
      "metadata": {
        "id": "vjbio5dPePxZ"
      },
      "outputs": [],
      "source": [
        "timestamp_column = \"Time\"\n",
        "target_columns = ['visibility_meters']\n",
        "\n",
        "# TTM model branch\n",
        "# Use main for 512-96 model\n",
        "# Use \"1024_96_v1\" for 1024-96 model\n",
        "TTM_MODEL_REVISION = \"main\"\n",
        "context_length = 512 # the max context length for the 512-96 model\n",
        "prediction_length = 96  # the max forecast length for the 512-96 model\n",
        "\n",
        "# Return this percent of the original dataset when getting train/test splits.\n",
        "fewshot_fraction = 0.50\n",
        "\n",
        "# Output directory for writing evaluation results.\n",
        "OUT_DIR = \"/tmp/ttm_results\""
      ]
    },
    {
      "cell_type": "markdown",
      "metadata": {
        "id": "seWJGlv1ePxa"
      },
      "source": [
        "## Preparing the Data"
      ]
    },
    {
      "cell_type": "code",
      "source": [],
      "metadata": {
        "id": "MW8vW1DqNadJ"
      },
      "execution_count": 3,
      "outputs": []
    },
    {
      "cell_type": "code",
      "execution_count": 4,
      "metadata": {
        "id": "GBt6ccoEePxc"
      },
      "outputs": [],
      "source": [
        "DATA_FILE_PATH = \"vobl_nov29_cleaned.csv\""
      ]
    },
    {
      "cell_type": "markdown",
      "metadata": {
        "id": "o_SjQF2xePxd"
      },
      "source": [
        "### Read in the data\n",
        "\n",
        "We parse the CSV into a pandas dataframe, filling in any null values, and create a single window containing `context_length` time points. We ensure the timestamp column is a UTC datetime."
      ]
    },
    {
      "cell_type": "code",
      "execution_count": 5,
      "metadata": {
        "colab": {
          "base_uri": "https://localhost:8080/",
          "height": 313
        },
        "id": "TE_AK-8GePxe",
        "outputId": "5af53127-b09f-46cb-f524-f971d614f8f1"
      },
      "outputs": [
        {
          "output_type": "execute_result",
          "data": {
            "text/plain": [
              "       dew_point  temperature  relative_humidity  wind_direction  wind_speed  \\\n",
              "26203       13.0         18.0              72.56            90.0         4.0   \n",
              "26204       13.0         18.0              72.56            90.0         4.0   \n",
              "26205       13.0         17.0              77.29            90.0         4.0   \n",
              "26206       13.0         17.0              77.29            90.0         3.0   \n",
              "26207       13.0         16.0              82.37            90.0         2.0   \n",
              "\n",
              "       solar_radiation  visibility_meters                Time fog_category  \\\n",
              "26203              0.0          6002.8382 2024-02-29 03:00:00          NSR   \n",
              "26204              0.0          6002.8382 2024-02-29 03:30:00          NSR   \n",
              "26205              0.0          6002.8382 2024-02-29 04:00:00          NSR   \n",
              "26206              0.0          6002.8382 2024-02-29 04:30:00          NSR   \n",
              "26207              0.0          6002.8382 2024-02-29 05:00:00          NSR   \n",
              "\n",
              "       pressure_altimeter_mb  \n",
              "26203               1015.917  \n",
              "26204               1015.917  \n",
              "26205               1015.917  \n",
              "26206               1015.917  \n",
              "26207               1015.917  "
            ],
            "text/html": [
              "\n",
              "  <div id=\"df-3cc6daf9-bb28-45ba-9482-8b7e9e04db52\" class=\"colab-df-container\">\n",
              "    <div>\n",
              "<style scoped>\n",
              "    .dataframe tbody tr th:only-of-type {\n",
              "        vertical-align: middle;\n",
              "    }\n",
              "\n",
              "    .dataframe tbody tr th {\n",
              "        vertical-align: top;\n",
              "    }\n",
              "\n",
              "    .dataframe thead th {\n",
              "        text-align: right;\n",
              "    }\n",
              "</style>\n",
              "<table border=\"1\" class=\"dataframe\">\n",
              "  <thead>\n",
              "    <tr style=\"text-align: right;\">\n",
              "      <th></th>\n",
              "      <th>dew_point</th>\n",
              "      <th>temperature</th>\n",
              "      <th>relative_humidity</th>\n",
              "      <th>wind_direction</th>\n",
              "      <th>wind_speed</th>\n",
              "      <th>solar_radiation</th>\n",
              "      <th>visibility_meters</th>\n",
              "      <th>Time</th>\n",
              "      <th>fog_category</th>\n",
              "      <th>pressure_altimeter_mb</th>\n",
              "    </tr>\n",
              "  </thead>\n",
              "  <tbody>\n",
              "    <tr>\n",
              "      <th>26203</th>\n",
              "      <td>13.0</td>\n",
              "      <td>18.0</td>\n",
              "      <td>72.56</td>\n",
              "      <td>90.0</td>\n",
              "      <td>4.0</td>\n",
              "      <td>0.0</td>\n",
              "      <td>6002.8382</td>\n",
              "      <td>2024-02-29 03:00:00</td>\n",
              "      <td>NSR</td>\n",
              "      <td>1015.917</td>\n",
              "    </tr>\n",
              "    <tr>\n",
              "      <th>26204</th>\n",
              "      <td>13.0</td>\n",
              "      <td>18.0</td>\n",
              "      <td>72.56</td>\n",
              "      <td>90.0</td>\n",
              "      <td>4.0</td>\n",
              "      <td>0.0</td>\n",
              "      <td>6002.8382</td>\n",
              "      <td>2024-02-29 03:30:00</td>\n",
              "      <td>NSR</td>\n",
              "      <td>1015.917</td>\n",
              "    </tr>\n",
              "    <tr>\n",
              "      <th>26205</th>\n",
              "      <td>13.0</td>\n",
              "      <td>17.0</td>\n",
              "      <td>77.29</td>\n",
              "      <td>90.0</td>\n",
              "      <td>4.0</td>\n",
              "      <td>0.0</td>\n",
              "      <td>6002.8382</td>\n",
              "      <td>2024-02-29 04:00:00</td>\n",
              "      <td>NSR</td>\n",
              "      <td>1015.917</td>\n",
              "    </tr>\n",
              "    <tr>\n",
              "      <th>26206</th>\n",
              "      <td>13.0</td>\n",
              "      <td>17.0</td>\n",
              "      <td>77.29</td>\n",
              "      <td>90.0</td>\n",
              "      <td>3.0</td>\n",
              "      <td>0.0</td>\n",
              "      <td>6002.8382</td>\n",
              "      <td>2024-02-29 04:30:00</td>\n",
              "      <td>NSR</td>\n",
              "      <td>1015.917</td>\n",
              "    </tr>\n",
              "    <tr>\n",
              "      <th>26207</th>\n",
              "      <td>13.0</td>\n",
              "      <td>16.0</td>\n",
              "      <td>82.37</td>\n",
              "      <td>90.0</td>\n",
              "      <td>2.0</td>\n",
              "      <td>0.0</td>\n",
              "      <td>6002.8382</td>\n",
              "      <td>2024-02-29 05:00:00</td>\n",
              "      <td>NSR</td>\n",
              "      <td>1015.917</td>\n",
              "    </tr>\n",
              "  </tbody>\n",
              "</table>\n",
              "</div>\n",
              "    <div class=\"colab-df-buttons\">\n",
              "\n",
              "  <div class=\"colab-df-container\">\n",
              "    <button class=\"colab-df-convert\" onclick=\"convertToInteractive('df-3cc6daf9-bb28-45ba-9482-8b7e9e04db52')\"\n",
              "            title=\"Convert this dataframe to an interactive table.\"\n",
              "            style=\"display:none;\">\n",
              "\n",
              "  <svg xmlns=\"http://www.w3.org/2000/svg\" height=\"24px\" viewBox=\"0 -960 960 960\">\n",
              "    <path d=\"M120-120v-720h720v720H120Zm60-500h600v-160H180v160Zm220 220h160v-160H400v160Zm0 220h160v-160H400v160ZM180-400h160v-160H180v160Zm440 0h160v-160H620v160ZM180-180h160v-160H180v160Zm440 0h160v-160H620v160Z\"/>\n",
              "  </svg>\n",
              "    </button>\n",
              "\n",
              "  <style>\n",
              "    .colab-df-container {\n",
              "      display:flex;\n",
              "      gap: 12px;\n",
              "    }\n",
              "\n",
              "    .colab-df-convert {\n",
              "      background-color: #E8F0FE;\n",
              "      border: none;\n",
              "      border-radius: 50%;\n",
              "      cursor: pointer;\n",
              "      display: none;\n",
              "      fill: #1967D2;\n",
              "      height: 32px;\n",
              "      padding: 0 0 0 0;\n",
              "      width: 32px;\n",
              "    }\n",
              "\n",
              "    .colab-df-convert:hover {\n",
              "      background-color: #E2EBFA;\n",
              "      box-shadow: 0px 1px 2px rgba(60, 64, 67, 0.3), 0px 1px 3px 1px rgba(60, 64, 67, 0.15);\n",
              "      fill: #174EA6;\n",
              "    }\n",
              "\n",
              "    .colab-df-buttons div {\n",
              "      margin-bottom: 4px;\n",
              "    }\n",
              "\n",
              "    [theme=dark] .colab-df-convert {\n",
              "      background-color: #3B4455;\n",
              "      fill: #D2E3FC;\n",
              "    }\n",
              "\n",
              "    [theme=dark] .colab-df-convert:hover {\n",
              "      background-color: #434B5C;\n",
              "      box-shadow: 0px 1px 3px 1px rgba(0, 0, 0, 0.15);\n",
              "      filter: drop-shadow(0px 1px 2px rgba(0, 0, 0, 0.3));\n",
              "      fill: #FFFFFF;\n",
              "    }\n",
              "  </style>\n",
              "\n",
              "    <script>\n",
              "      const buttonEl =\n",
              "        document.querySelector('#df-3cc6daf9-bb28-45ba-9482-8b7e9e04db52 button.colab-df-convert');\n",
              "      buttonEl.style.display =\n",
              "        google.colab.kernel.accessAllowed ? 'block' : 'none';\n",
              "\n",
              "      async function convertToInteractive(key) {\n",
              "        const element = document.querySelector('#df-3cc6daf9-bb28-45ba-9482-8b7e9e04db52');\n",
              "        const dataTable =\n",
              "          await google.colab.kernel.invokeFunction('convertToInteractive',\n",
              "                                                    [key], {});\n",
              "        if (!dataTable) return;\n",
              "\n",
              "        const docLinkHtml = 'Like what you see? Visit the ' +\n",
              "          '<a target=\"_blank\" href=https://colab.research.google.com/notebooks/data_table.ipynb>data table notebook</a>'\n",
              "          + ' to learn more about interactive tables.';\n",
              "        element.innerHTML = '';\n",
              "        dataTable['output_type'] = 'display_data';\n",
              "        await google.colab.output.renderOutput(dataTable, element);\n",
              "        const docLink = document.createElement('div');\n",
              "        docLink.innerHTML = docLinkHtml;\n",
              "        element.appendChild(docLink);\n",
              "      }\n",
              "    </script>\n",
              "  </div>\n",
              "\n",
              "\n",
              "<div id=\"df-4f3ef91e-bb5b-4021-8c5f-39e989582cdd\">\n",
              "  <button class=\"colab-df-quickchart\" onclick=\"quickchart('df-4f3ef91e-bb5b-4021-8c5f-39e989582cdd')\"\n",
              "            title=\"Suggest charts\"\n",
              "            style=\"display:none;\">\n",
              "\n",
              "<svg xmlns=\"http://www.w3.org/2000/svg\" height=\"24px\"viewBox=\"0 0 24 24\"\n",
              "     width=\"24px\">\n",
              "    <g>\n",
              "        <path d=\"M19 3H5c-1.1 0-2 .9-2 2v14c0 1.1.9 2 2 2h14c1.1 0 2-.9 2-2V5c0-1.1-.9-2-2-2zM9 17H7v-7h2v7zm4 0h-2V7h2v10zm4 0h-2v-4h2v4z\"/>\n",
              "    </g>\n",
              "</svg>\n",
              "  </button>\n",
              "\n",
              "<style>\n",
              "  .colab-df-quickchart {\n",
              "      --bg-color: #E8F0FE;\n",
              "      --fill-color: #1967D2;\n",
              "      --hover-bg-color: #E2EBFA;\n",
              "      --hover-fill-color: #174EA6;\n",
              "      --disabled-fill-color: #AAA;\n",
              "      --disabled-bg-color: #DDD;\n",
              "  }\n",
              "\n",
              "  [theme=dark] .colab-df-quickchart {\n",
              "      --bg-color: #3B4455;\n",
              "      --fill-color: #D2E3FC;\n",
              "      --hover-bg-color: #434B5C;\n",
              "      --hover-fill-color: #FFFFFF;\n",
              "      --disabled-bg-color: #3B4455;\n",
              "      --disabled-fill-color: #666;\n",
              "  }\n",
              "\n",
              "  .colab-df-quickchart {\n",
              "    background-color: var(--bg-color);\n",
              "    border: none;\n",
              "    border-radius: 50%;\n",
              "    cursor: pointer;\n",
              "    display: none;\n",
              "    fill: var(--fill-color);\n",
              "    height: 32px;\n",
              "    padding: 0;\n",
              "    width: 32px;\n",
              "  }\n",
              "\n",
              "  .colab-df-quickchart:hover {\n",
              "    background-color: var(--hover-bg-color);\n",
              "    box-shadow: 0 1px 2px rgba(60, 64, 67, 0.3), 0 1px 3px 1px rgba(60, 64, 67, 0.15);\n",
              "    fill: var(--button-hover-fill-color);\n",
              "  }\n",
              "\n",
              "  .colab-df-quickchart-complete:disabled,\n",
              "  .colab-df-quickchart-complete:disabled:hover {\n",
              "    background-color: var(--disabled-bg-color);\n",
              "    fill: var(--disabled-fill-color);\n",
              "    box-shadow: none;\n",
              "  }\n",
              "\n",
              "  .colab-df-spinner {\n",
              "    border: 2px solid var(--fill-color);\n",
              "    border-color: transparent;\n",
              "    border-bottom-color: var(--fill-color);\n",
              "    animation:\n",
              "      spin 1s steps(1) infinite;\n",
              "  }\n",
              "\n",
              "  @keyframes spin {\n",
              "    0% {\n",
              "      border-color: transparent;\n",
              "      border-bottom-color: var(--fill-color);\n",
              "      border-left-color: var(--fill-color);\n",
              "    }\n",
              "    20% {\n",
              "      border-color: transparent;\n",
              "      border-left-color: var(--fill-color);\n",
              "      border-top-color: var(--fill-color);\n",
              "    }\n",
              "    30% {\n",
              "      border-color: transparent;\n",
              "      border-left-color: var(--fill-color);\n",
              "      border-top-color: var(--fill-color);\n",
              "      border-right-color: var(--fill-color);\n",
              "    }\n",
              "    40% {\n",
              "      border-color: transparent;\n",
              "      border-right-color: var(--fill-color);\n",
              "      border-top-color: var(--fill-color);\n",
              "    }\n",
              "    60% {\n",
              "      border-color: transparent;\n",
              "      border-right-color: var(--fill-color);\n",
              "    }\n",
              "    80% {\n",
              "      border-color: transparent;\n",
              "      border-right-color: var(--fill-color);\n",
              "      border-bottom-color: var(--fill-color);\n",
              "    }\n",
              "    90% {\n",
              "      border-color: transparent;\n",
              "      border-bottom-color: var(--fill-color);\n",
              "    }\n",
              "  }\n",
              "</style>\n",
              "\n",
              "  <script>\n",
              "    async function quickchart(key) {\n",
              "      const quickchartButtonEl =\n",
              "        document.querySelector('#' + key + ' button');\n",
              "      quickchartButtonEl.disabled = true;  // To prevent multiple clicks.\n",
              "      quickchartButtonEl.classList.add('colab-df-spinner');\n",
              "      try {\n",
              "        const charts = await google.colab.kernel.invokeFunction(\n",
              "            'suggestCharts', [key], {});\n",
              "      } catch (error) {\n",
              "        console.error('Error during call to suggestCharts:', error);\n",
              "      }\n",
              "      quickchartButtonEl.classList.remove('colab-df-spinner');\n",
              "      quickchartButtonEl.classList.add('colab-df-quickchart-complete');\n",
              "    }\n",
              "    (() => {\n",
              "      let quickchartButtonEl =\n",
              "        document.querySelector('#df-4f3ef91e-bb5b-4021-8c5f-39e989582cdd button');\n",
              "      quickchartButtonEl.style.display =\n",
              "        google.colab.kernel.accessAllowed ? 'block' : 'none';\n",
              "    })();\n",
              "  </script>\n",
              "</div>\n",
              "\n",
              "    </div>\n",
              "  </div>\n"
            ],
            "application/vnd.google.colaboratory.intrinsic+json": {
              "type": "dataframe",
              "summary": "{\n  \"name\": \"input_df\",\n  \"rows\": 5,\n  \"fields\": [\n    {\n      \"column\": \"dew_point\",\n      \"properties\": {\n        \"dtype\": \"number\",\n        \"std\": 0.0,\n        \"min\": 13.0,\n        \"max\": 13.0,\n        \"num_unique_values\": 1,\n        \"samples\": [\n          13.0\n        ],\n        \"semantic_type\": \"\",\n        \"description\": \"\"\n      }\n    },\n    {\n      \"column\": \"temperature\",\n      \"properties\": {\n        \"dtype\": \"number\",\n        \"std\": 0.8366600265340756,\n        \"min\": 16.0,\n        \"max\": 18.0,\n        \"num_unique_values\": 3,\n        \"samples\": [\n          18.0\n        ],\n        \"semantic_type\": \"\",\n        \"description\": \"\"\n      }\n    },\n    {\n      \"column\": \"relative_humidity\",\n      \"properties\": {\n        \"dtype\": \"number\",\n        \"std\": 4.083972330954265,\n        \"min\": 72.56,\n        \"max\": 82.37,\n        \"num_unique_values\": 3,\n        \"samples\": [\n          72.56\n        ],\n        \"semantic_type\": \"\",\n        \"description\": \"\"\n      }\n    },\n    {\n      \"column\": \"wind_direction\",\n      \"properties\": {\n        \"dtype\": \"number\",\n        \"std\": 0.0,\n        \"min\": 90.0,\n        \"max\": 90.0,\n        \"num_unique_values\": 1,\n        \"samples\": [\n          90.0\n        ],\n        \"semantic_type\": \"\",\n        \"description\": \"\"\n      }\n    },\n    {\n      \"column\": \"wind_speed\",\n      \"properties\": {\n        \"dtype\": \"number\",\n        \"std\": 0.8944271909999159,\n        \"min\": 2.0,\n        \"max\": 4.0,\n        \"num_unique_values\": 3,\n        \"samples\": [\n          4.0\n        ],\n        \"semantic_type\": \"\",\n        \"description\": \"\"\n      }\n    },\n    {\n      \"column\": \"solar_radiation\",\n      \"properties\": {\n        \"dtype\": \"number\",\n        \"std\": 0.0,\n        \"min\": 0.0,\n        \"max\": 0.0,\n        \"num_unique_values\": 1,\n        \"samples\": [\n          0.0\n        ],\n        \"semantic_type\": \"\",\n        \"description\": \"\"\n      }\n    },\n    {\n      \"column\": \"visibility_meters\",\n      \"properties\": {\n        \"dtype\": \"number\",\n        \"std\": 0.0,\n        \"min\": 6002.838199999999,\n        \"max\": 6002.838199999999,\n        \"num_unique_values\": 1,\n        \"samples\": [\n          6002.838199999999\n        ],\n        \"semantic_type\": \"\",\n        \"description\": \"\"\n      }\n    },\n    {\n      \"column\": \"Time\",\n      \"properties\": {\n        \"dtype\": \"date\",\n        \"min\": \"2024-02-29 03:00:00\",\n        \"max\": \"2024-02-29 05:00:00\",\n        \"num_unique_values\": 5,\n        \"samples\": [\n          \"2024-02-29 03:30:00\"\n        ],\n        \"semantic_type\": \"\",\n        \"description\": \"\"\n      }\n    },\n    {\n      \"column\": \"fog_category\",\n      \"properties\": {\n        \"dtype\": \"category\",\n        \"num_unique_values\": 1,\n        \"samples\": [\n          \"NSR\"\n        ],\n        \"semantic_type\": \"\",\n        \"description\": \"\"\n      }\n    },\n    {\n      \"column\": \"pressure_altimeter_mb\",\n      \"properties\": {\n        \"dtype\": \"number\",\n        \"std\": 0.0,\n        \"min\": 1015.917,\n        \"max\": 1015.917,\n        \"num_unique_values\": 1,\n        \"samples\": [\n          1015.917\n        ],\n        \"semantic_type\": \"\",\n        \"description\": \"\"\n      }\n    }\n  ]\n}"
            }
          },
          "metadata": {},
          "execution_count": 5
        }
      ],
      "source": [
        "# Read in the data from the downloaded file.\n",
        "input_df = pd.read_csv(DATA_FILE_PATH, parse_dates=[timestamp_column])\n",
        "\n",
        "# Fill NA/NaN values by propagating the last valid value.\n",
        "input_df = input_df.ffill()\n",
        "\n",
        "# Show the last few rows of the dataset.\n",
        "input_df.tail()"
      ]
    },
    {
      "cell_type": "markdown",
      "metadata": {
        "id": "vZnAmTsHePxg"
      },
      "source": [
        "### Plot a segment of the target series\n",
        "\n",
        "Here we inspect a preview of the target time series."
      ]
    },
    {
      "cell_type": "code",
      "execution_count": 6,
      "metadata": {
        "colab": {
          "base_uri": "https://localhost:8080/",
          "height": 241
        },
        "id": "pG76v0-OePxg",
        "outputId": "70d2f733-f795-48fb-801b-f16be4aaafb8"
      },
      "outputs": [
        {
          "output_type": "display_data",
          "data": {
            "text/plain": [
              "<Figure size 2000x300 with 1 Axes>"
            ],
            "image/png": "[encoded data removed]"
          },
          "metadata": {}
        }
      ],
      "source": [
        "for target_column in target_columns:\n",
        "    input_df.plot(x=timestamp_column, y=target_column, figsize=(20, 3))"
      ]
    },
    {
      "cell_type": "markdown",
      "metadata": {
        "id": "eD2p5WP1ePxh"
      },
      "source": [
        "## Preprocessing the Data"
      ]
    },
    {
      "cell_type": "markdown",
      "metadata": {
        "id": "2RDnFnL2ePxh"
      },
      "source": [
        "### Split the data into training and testing sets\n",
        "\n",
        "We split the data into training, validation, and test sets. The training set is used to train the model, while the test set is used to evaluate its performance."
      ]
    },
    {
      "cell_type": "code",
      "execution_count": 7,
      "metadata": {
        "colab": {
          "base_uri": "https://localhost:8080/"
        },
        "id": "09wlHH1eePxh",
        "outputId": "fa32dd61-a55b-492d-a59c-20b679e14c9b"
      },
      "outputs": [
        {
          "output_type": "stream",
          "name": "stdout",
          "text": [
            "Data lengths: train = 7511, val = 5148, test = 5146\n"
          ]
        }
      ],
      "source": [
        "split_config = {\"train\": 0.6, \"test\": 0.2}\n",
        "\n",
        "column_specifiers = {\n",
        "    \"timestamp_column\": timestamp_column,\n",
        "    \"id_columns\": [],\n",
        "    \"target_columns\": target_columns,\n",
        "    \"control_columns\": [\n",
        "        \"dew_point\",\n",
        "        \"temperature\",\n",
        "        \"relative_humidity\",\n",
        "        \"wind_direction\",\n",
        "        \"wind_speed\",\n",
        "        \"solar_radiation\",\n",
        "        \"pressure_altimeter_mb\",\n",
        "    ],\n",
        "}\n",
        "\n",
        "tsp = TimeSeriesPreprocessor(\n",
        "    **column_specifiers,\n",
        "    context_length=context_length,\n",
        "    prediction_length=prediction_length,\n",
        "    scaling=True,\n",
        "    encode_categorical=False,\n",
        "    scaler_type=\"standard\",\n",
        ")\n",
        "\n",
        "train_df, valid_df, test_df = prepare_data_splits(input_df, context_length=context_length, split_config=split_config)\n",
        "\n",
        "train_dataset, valid_dataset, test_dataset = get_datasets(\n",
        "    tsp,\n",
        "    input_df,\n",
        "    split_config,\n",
        "    fewshot_fraction=fewshot_fraction,\n",
        "    fewshot_location=\"last\",\n",
        ")\n",
        "print(f\"Data lengths: train = {len(train_dataset)}, val = {len(valid_dataset)}, test = {len(test_dataset)}\")"
      ]
    },
    {
      "cell_type": "markdown",
      "metadata": {
        "id": "EtCJHy2XePxh"
      },
      "source": [
        "## Fine-tuning the Model"
      ]
    },
    {
      "cell_type": "markdown",
      "metadata": {
        "id": "frm_qAjAePxh"
      },
      "source": [
        "### Load the model for finetuning\n",
        "The TTM model is hosted on [HuggingFace](https://huggingface.co/ibm-granite/granite-timeseries-ttm-v1), and is loaded into a `TinyTimeMixerForPrediction` model."
      ]
    },
    {
      "cell_type": "code",
      "execution_count": 8,
      "metadata": {
        "colab": {
          "base_uri": "https://localhost:8080/",
          "height": 272,
          "referenced_widgets": [
            "5c7f306908e1459e90172ad0ee1ecfac",
            "4ac353ddfeac42b78b9a507c5319e8aa",
            "3ebcbcc887db4988af36be0904ed9296",
            "95f38fea809d4e67a2af7bd38d2626fc",
            "d056b899a7c14728be6eae0dde001894",
            "6fdd8f1cc6164fb6ad857de622ec101b",
            "e969f3ac97fd4532b6d2a6a27696ab0a",
            "4289c5f11fb94965919b53b77aee3bb8",
            "9e453345ed5b41ae8912efc2f70f4970",
            "3d04396ca109490ba2ec25b299acffd7",
            "edb61f1373b04439bfe6650da9d52f7d",
            "0bab469f86f5485a87f4fc6b9c8fb150",
            "7593d9e31de34724965f57810e528c60",
            "8bbbae4e2b6f4c108dc1a807818f96a5",
            "2991b7f2e6cb4fb3a4610acdb766f8bf",
            "5138d8c2b5af42ec8b19f192a734220b",
            "8aee00e85ca5490c9a0980bae6faeec0",
            "0f85019688a24e438609ffd045184e53",
            "99618853918a4ab6a1206f4f5462a73e",
            "1ba1bdf92fa84a5bb0946f3117f6b837",
            "ba2a70673ad74ec89b8308ddeeb405a2",
            "ee30e5b7db484c2ab62f89df5bd512c4",
            "81511b2c699148218e1457f7e434a4c2",
            "6d8caec4b09848db8948750895bc4a40",
            "f701893eb9a2449ebdc95ed95fda748f",
            "ac1341bdee504397982b9ed954d0dcc8",
            "70dd7504682a4e28b2aff0ff88a16c2c",
            "cbf3c64d4c7547eab3be99f33e3ced53",
            "242cbcfee6694d048a7d104228098093",
            "0d4704eedd9848968a3527e713214607",
            "b64640181a994a6eb54c72460359b944",
            "26c1e537302f4c99b0fd2309d9e89881",
            "76adeb8dbab7478a9abc81920e22ffe2"
          ]
        },
        "id": "uQQnjVnRePxh",
        "outputId": "258ff69e-1e76-48c1-9738-31c9464b7542"
      },
      "outputs": [
        {
          "output_type": "stream",
          "name": "stderr",
          "text": [
            "/usr/local/lib/python3.10/dist-packages/huggingface_hub/utils/_auth.py:94: UserWarning: \n",
            "The secret `HF_TOKEN` does not exist in your Colab secrets.\n",
            "To authenticate with the Hugging Face Hub, create a token in your settings tab (https://huggingface.co/settings/tokens), set it as secret in your Google Colab and restart your session.\n",
            "You will be able to reuse this secret in all of your notebooks.\n",
            "Please note that authentication is recommended but still optional to access public models or datasets.\n",
            "  warnings.warn(\n"
          ]
        },
        {
          "output_type": "display_data",
          "data": {
            "text/plain": [
              "config.json:   0%|          | 0.00/1.56k [00:00<?, ?B/s]"
            ],
            "application/vnd.jupyter.widget-view+json": {
              "version_major": 2,
              "version_minor": 0,
              "model_id": "5c7f306908e1459e90172ad0ee1ecfac"
            }
          },
          "metadata": {}
        },
        {
          "output_type": "display_data",
          "data": {
            "text/plain": [
              "model.safetensors:   0%|          | 0.00/3.24M [00:00<?, ?B/s]"
            ],
            "application/vnd.jupyter.widget-view+json": {
              "version_major": 2,
              "version_minor": 0,
              "model_id": "0bab469f86f5485a87f4fc6b9c8fb150"
            }
          },
          "metadata": {}
        },
        {
          "output_type": "stream",
          "name": "stderr",
          "text": [
            "Some weights of TinyTimeMixerForPrediction were not initialized from the model checkpoint at ibm-granite/granite-timeseries-ttm-r2 and are newly initialized: ['decoder.decoder_block.mixers.0.channel_feature_mixer.gating_block.attn_layer.bias', 'decoder.decoder_block.mixers.0.channel_feature_mixer.gating_block.attn_layer.weight', 'decoder.decoder_block.mixers.0.channel_feature_mixer.mlp.fc1.bias', 'decoder.decoder_block.mixers.0.channel_feature_mixer.mlp.fc1.weight', 'decoder.decoder_block.mixers.0.channel_feature_mixer.mlp.fc2.bias', 'decoder.decoder_block.mixers.0.channel_feature_mixer.mlp.fc2.weight', 'decoder.decoder_block.mixers.0.channel_feature_mixer.norm.norm.bias', 'decoder.decoder_block.mixers.0.channel_feature_mixer.norm.norm.weight', 'decoder.decoder_block.mixers.1.channel_feature_mixer.gating_block.attn_layer.bias', 'decoder.decoder_block.mixers.1.channel_feature_mixer.gating_block.attn_layer.weight', 'decoder.decoder_block.mixers.1.channel_feature_mixer.mlp.fc1.bias', 'decoder.decoder_block.mixers.1.channel_feature_mixer.mlp.fc1.weight', 'decoder.decoder_block.mixers.1.channel_feature_mixer.mlp.fc2.bias', 'decoder.decoder_block.mixers.1.channel_feature_mixer.mlp.fc2.weight', 'decoder.decoder_block.mixers.1.channel_feature_mixer.norm.norm.bias', 'decoder.decoder_block.mixers.1.channel_feature_mixer.norm.norm.weight', 'head.fcm_block.exog_mixer.mixers.0.feature_mixer.gating_block.attn_layer.bias', 'head.fcm_block.exog_mixer.mixers.0.feature_mixer.gating_block.attn_layer.weight', 'head.fcm_block.exog_mixer.mixers.0.feature_mixer.mlp.fc1.bias', 'head.fcm_block.exog_mixer.mixers.0.feature_mixer.mlp.fc1.weight', 'head.fcm_block.exog_mixer.mixers.0.feature_mixer.mlp.fc2.bias', 'head.fcm_block.exog_mixer.mixers.0.feature_mixer.mlp.fc2.weight', 'head.fcm_block.exog_mixer.mixers.0.feature_mixer.norm.norm.bias', 'head.fcm_block.exog_mixer.mixers.0.feature_mixer.norm.norm.weight', 'head.fcm_block.exog_mixer.mixers.0.patch_mixer.gating_block.attn_layer.bias', 'head.fcm_block.exog_mixer.mixers.0.patch_mixer.gating_block.attn_layer.weight', 'head.fcm_block.exog_mixer.mixers.0.patch_mixer.mlp.fc1.bias', 'head.fcm_block.exog_mixer.mixers.0.patch_mixer.mlp.fc1.weight', 'head.fcm_block.exog_mixer.mixers.0.patch_mixer.mlp.fc2.bias', 'head.fcm_block.exog_mixer.mixers.0.patch_mixer.mlp.fc2.weight', 'head.fcm_block.exog_mixer.mixers.0.patch_mixer.norm.norm.bias', 'head.fcm_block.exog_mixer.mixers.0.patch_mixer.norm.norm.weight', 'head.fcm_block.exog_mixer.mixers.1.feature_mixer.gating_block.attn_layer.bias', 'head.fcm_block.exog_mixer.mixers.1.feature_mixer.gating_block.attn_layer.weight', 'head.fcm_block.exog_mixer.mixers.1.feature_mixer.mlp.fc1.bias', 'head.fcm_block.exog_mixer.mixers.1.feature_mixer.mlp.fc1.weight', 'head.fcm_block.exog_mixer.mixers.1.feature_mixer.mlp.fc2.bias', 'head.fcm_block.exog_mixer.mixers.1.feature_mixer.mlp.fc2.weight', 'head.fcm_block.exog_mixer.mixers.1.feature_mixer.norm.norm.bias', 'head.fcm_block.exog_mixer.mixers.1.feature_mixer.norm.norm.weight', 'head.fcm_block.exog_mixer.mixers.1.patch_mixer.gating_block.attn_layer.bias', 'head.fcm_block.exog_mixer.mixers.1.patch_mixer.gating_block.attn_layer.weight', 'head.fcm_block.exog_mixer.mixers.1.patch_mixer.mlp.fc1.bias', 'head.fcm_block.exog_mixer.mixers.1.patch_mixer.mlp.fc1.weight', 'head.fcm_block.exog_mixer.mixers.1.patch_mixer.mlp.fc2.bias', 'head.fcm_block.exog_mixer.mixers.1.patch_mixer.mlp.fc2.weight', 'head.fcm_block.exog_mixer.mixers.1.patch_mixer.norm.norm.bias', 'head.fcm_block.exog_mixer.mixers.1.patch_mixer.norm.norm.weight', 'head.fcm_block.exog_mixer.mixers.2.feature_mixer.gating_block.attn_layer.bias', 'head.fcm_block.exog_mixer.mixers.2.feature_mixer.gating_block.attn_layer.weight', 'head.fcm_block.exog_mixer.mixers.2.feature_mixer.mlp.fc1.bias', 'head.fcm_block.exog_mixer.mixers.2.feature_mixer.mlp.fc1.weight', 'head.fcm_block.exog_mixer.mixers.2.feature_mixer.mlp.fc2.bias', 'head.fcm_block.exog_mixer.mixers.2.feature_mixer.mlp.fc2.weight', 'head.fcm_block.exog_mixer.mixers.2.feature_mixer.norm.norm.bias', 'head.fcm_block.exog_mixer.mixers.2.feature_mixer.norm.norm.weight', 'head.fcm_block.exog_mixer.mixers.2.patch_mixer.gating_block.attn_layer.bias', 'head.fcm_block.exog_mixer.mixers.2.patch_mixer.gating_block.attn_layer.weight', 'head.fcm_block.exog_mixer.mixers.2.patch_mixer.mlp.fc1.bias', 'head.fcm_block.exog_mixer.mixers.2.patch_mixer.mlp.fc1.weight', 'head.fcm_block.exog_mixer.mixers.2.patch_mixer.mlp.fc2.bias', 'head.fcm_block.exog_mixer.mixers.2.patch_mixer.mlp.fc2.weight', 'head.fcm_block.exog_mixer.mixers.2.patch_mixer.norm.norm.bias', 'head.fcm_block.exog_mixer.mixers.2.patch_mixer.norm.norm.weight', 'head.fcm_block.fcm_embedding.bias', 'head.fcm_block.fcm_embedding.weight', 'head.fcm_block.fcm_gating_block.attn_layer.bias', 'head.fcm_block.fcm_gating_block.attn_layer.weight', 'head.fcm_block.mlp.bias', 'head.fcm_block.mlp.weight']\n",
            "You should probably TRAIN this model on a down-stream task to be able to use it for predictions and inference.\n"
          ]
        },
        {
          "output_type": "display_data",
          "data": {
            "text/plain": [
              "generation_config.json:   0%|          | 0.00/69.0 [00:00<?, ?B/s]"
            ],
            "application/vnd.jupyter.widget-view+json": {
              "version_major": 2,
              "version_minor": 0,
              "model_id": "81511b2c699148218e1457f7e434a4c2"
            }
          },
          "metadata": {}
        }
      ],
      "source": [
        "# Instantiate the model.\n",
        "set_seed(42)\n",
        "finetune_forecast_model = TinyTimeMixerForPrediction.from_pretrained(\n",
        "    \"ibm-granite/granite-timeseries-ttm-r2\",  # Name of the model on HuggingFace.\n",
        "    num_input_channels=tsp.num_input_channels,\n",
        "    #prediction_channel_indices=tsp.prediction_channel_indices,\n",
        "    #exogenous_channel_indices=tsp.exogenous_channel_indices,\n",
        "    fcm_use_mixer=True,\n",
        "    fcm_context_length=10,\n",
        "    enable_forecast_channel_mixing=True,\n",
        "    decoder_mode=\"mix_channel\",\n",
        ")"
      ]
    },
    {
      "cell_type": "markdown",
      "metadata": {
        "id": "cYCQ6rgDePxi"
      },
      "source": [
        "### Freeze the TTM Backbone\n",
        "\n",
        "During fine tuning we freeze the backbone and focus on tuning only the parameters in the decoder. This reduces the overall number of parameters being tuned while also maintaining the pre-trained backbone."
      ]
    },
    {
      "cell_type": "code",
      "execution_count": 9,
      "metadata": {
        "colab": {
          "base_uri": "https://localhost:8080/",
          "height": 90
        },
        "id": "-vw24FGTePxi",
        "outputId": "324b1b45-0f97-4adb-b7c6-5b03be54e207"
      },
      "outputs": [
        {
          "output_type": "execute_result",
          "data": {
            "text/plain": [
              "'\\nprint(\\n    \"Number of params before freezing backbone\",\\n    count_parameters(finetune_forecast_model),\\n)\\n\\n# Freeze the backbone of the model\\nfor param in finetune_forecast_model.backbone.parameters():\\n    param.requires_grad = False\\n\\n# Count params\\nprint(\\n    \"Number of params after freezing the backbone\",\\n    count_parameters(finetune_forecast_model),\\n)\\n'"
            ],
            "application/vnd.google.colaboratory.intrinsic+json": {
              "type": "string"
            }
          },
          "metadata": {},
          "execution_count": 9
        }
      ],
      "source": [
        "\"\"\"\n",
        "print(\n",
        "    \"Number of params before freezing backbone\",\n",
        "    count_parameters(finetune_forecast_model),\n",
        ")\n",
        "\n",
        "# Freeze the backbone of the model\n",
        "for param in finetune_forecast_model.backbone.parameters():\n",
        "    param.requires_grad = False\n",
        "\n",
        "# Count params\n",
        "print(\n",
        "    \"Number of params after freezing the backbone\",\n",
        "    count_parameters(finetune_forecast_model),\n",
        ")\n",
        "\"\"\""
      ]
    },
    {
      "cell_type": "markdown",
      "metadata": {
        "id": "tjzm0-eRePxj"
      },
      "source": [
        "# Set up a Trainer for Finetune Few-shot 50%\n",
        "\n",
        "Configure a Trainer for use in fine-tuning and evaluating the model."
      ]
    },
    {
      "cell_type": "code",
      "execution_count": 10,
      "metadata": {
        "colab": {
          "base_uri": "https://localhost:8080/"
        },
        "id": "UJOsDXqfePxk",
        "outputId": "ead62c45-4360-4fce-a92e-4c59642457ab"
      },
      "outputs": [
        {
          "output_type": "stream",
          "name": "stdout",
          "text": [
            "Using learning rate = 0.0001\n"
          ]
        }
      ],
      "source": [
        "# Important parameters\n",
        "learning_rate: float = 0.0001\n",
        "num_epochs: int = 200\n",
        "patience: int = 2\n",
        "batch_size: int = 16\n",
        "\n",
        "print(f\"Using learning rate = {learning_rate}\")\n",
        "finetune_forecast_args = TrainingArguments(\n",
        "    output_dir=os.path.join(OUT_DIR, \"output\"),\n",
        "    overwrite_output_dir=True,\n",
        "    learning_rate=learning_rate,\n",
        "    num_train_epochs=num_epochs,\n",
        "    do_eval=True,\n",
        "    eval_strategy=\"epoch\",\n",
        "    per_device_train_batch_size=batch_size,\n",
        "    per_device_eval_batch_size=batch_size,\n",
        "    dataloader_num_workers=8,\n",
        "    report_to=None,\n",
        "    save_strategy=\"epoch\",\n",
        "    logging_strategy=\"epoch\",\n",
        "    save_total_limit=1,\n",
        "    logging_dir=os.path.join(OUT_DIR, \"logs\"),  # Make sure to specify a logging directory\n",
        "    load_best_model_at_end=True,  # Load the best model when training ends\n",
        "    metric_for_best_model=\"eval_loss\",  # Metric to monitor for early stopping\n",
        "    greater_is_better=False,  # For loss\n",
        "    use_cpu=finetune_forecast_model.device.type != \"cuda\",\n",
        ")\n",
        "\n",
        "# Create the early stopping callback\n",
        "early_stopping_callback = EarlyStoppingCallback(\n",
        "    early_stopping_patience=patience,  # Number of epochs with no improvement after which to stop\n",
        "    early_stopping_threshold=0.00001,  # Minimum improvement required to consider as improvement\n",
        ")\n",
        "tracking_callback = TrackingCallback()\n",
        "\n",
        "# Optimizer and scheduler\n",
        "optimizer = AdamW(finetune_forecast_model.parameters(), lr=learning_rate)\n",
        "scheduler = OneCycleLR(\n",
        "    optimizer,\n",
        "    learning_rate,\n",
        "    epochs=num_epochs,\n",
        "    steps_per_epoch=math.ceil(len(train_dataset) / (batch_size)),\n",
        ")\n",
        "\n",
        "finetune_forecast_trainer = Trainer(\n",
        "    model=finetune_forecast_model,\n",
        "    args=finetune_forecast_args,\n",
        "    train_dataset=train_dataset,\n",
        "    eval_dataset=valid_dataset,\n",
        "    callbacks=[early_stopping_callback, tracking_callback],\n",
        "    optimizers=(optimizer, scheduler),\n",
        ")"
      ]
    },
    {
      "cell_type": "markdown",
      "metadata": {
        "id": "Apgd5mvRePxk"
      },
      "source": [
        "### Train the Model\n",
        "\n",
        "Here we train the model on the fraction of data that was selected above (5% of the training data). This tunes only the weights in the decoder and output layers, as the other weights have been frozen.\n"
      ]
    },
    {
      "cell_type": "code",
      "execution_count": null,
      "metadata": {
        "colab": {
          "base_uri": "https://localhost:8080/",
          "height": 531
        },
        "id": "Eyr7FUQZePxk",
        "outputId": "146efca5-4caa-4425-92ab-09ab1b5aa698"
      },
      "outputs": [
        {
          "metadata": {
            "tags": null
          },
          "name": "stderr",
          "output_type": "stream",
          "text": [
            "/usr/local/lib/python3.10/dist-packages/torch/utils/data/dataloader.py:617: UserWarning: This DataLoader will create 8 worker processes in total. Our suggested max number of worker in current system is 2, which is smaller than what this DataLoader is going to create. Please be aware that excessive worker creation might get DataLoader running slow or even freeze, lower the worker number to avoid potential slowness/freeze if necessary.\n",
            "  warnings.warn(\n",
            "\u001b[34m\u001b[1mwandb\u001b[0m: \u001b[33mWARNING\u001b[0m The `run_name` is currently set to the same value as `TrainingArguments.output_dir`. If this was not intended, please specify a different run name by setting the `TrainingArguments.run_name` parameter.\n",
            "\u001b[34m\u001b[1mwandb\u001b[0m: Using wandb-core as the SDK backend.  Please refer to https://wandb.me/wandb-core for more information.\n"
          ]
        },
        {
          "data": {
            "application/javascript": [
              "\n",
              "        window._wandbApiKey = new Promise((resolve, reject) => {\n",
              "            function loadScript(url) {\n",
              "            return new Promise(function(resolve, reject) {\n",
              "                let newScript = document.createElement(\"script\");\n",
              "                newScript.onerror = reject;\n",
              "                newScript.onload = resolve;\n",
              "                document.body.appendChild(newScript);\n",
              "                newScript.src = url;\n",
              "            });\n",
              "            }\n",
              "            loadScript(\"https://cdn.jsdelivr.net/npm/postmate/build/postmate.min.js\").then(() => {\n",
              "            const iframe = document.createElement('iframe')\n",
              "            iframe.style.cssText = \"width:0;height:0;border:none\"\n",
              "            document.body.appendChild(iframe)\n",
              "            const handshake = new Postmate({\n",
              "                container: iframe,\n",
              "                url: 'https://wandb.ai/authorize'\n",
              "            });\n",
              "            const timeout = setTimeout(() => reject(\"Couldn't auto authenticate\"), 5000)\n",
              "            handshake.then(function(child) {\n",
              "                child.on('authorize', data => {\n",
              "                    clearTimeout(timeout)\n",
              "                    resolve(data)\n",
              "                });\n",
              "            });\n",
              "            })\n",
              "        });\n",
              "    "
            ],
            "text/plain": [
              "<IPython.core.display.Javascript object>"
            ]
          },
          "metadata": {},
          "output_type": "display_data"
        },
        {
          "metadata": {
            "tags": null
          },
          "name": "stderr",
          "output_type": "stream",
          "text": [
            "\u001b[34m\u001b[1mwandb\u001b[0m: Logging into wandb.ai. (Learn how to deploy a W&B server locally: https://wandb.me/wandb-server)\n",
            "\u001b[34m\u001b[1mwandb\u001b[0m: You can find your API key in your browser here: https://wandb.ai/authorize\n",
            "wandb: Paste an API key from your profile and hit enter, or press ctrl+c to quit:\u001b[34m\u001b[1mwandb\u001b[0m: Appending key for api.wandb.ai to your netrc file: /root/.netrc\n"
          ]
        },
        {
          "data": {
            "text/html": [
              "Tracking run with wandb version 0.18.7"
            ],
            "text/plain": [
              "<IPython.core.display.HTML object>"
            ]
          },
          "metadata": {},
          "output_type": "display_data"
        },
        {
          "data": {
            "text/html": [
              "Run data is saved locally in <code>/content/wandb/run-20241208_160713-brwnnujf</code>"
            ],
            "text/plain": [
              "<IPython.core.display.HTML object>"
            ]
          },
          "metadata": {},
          "output_type": "display_data"
        },
        {
          "data": {
            "text/html": [
              "Syncing run <strong><a href='https://wandb.ai/sindhu-varier-pesi/huggingface/runs/brwnnujf' target=\"_blank\">/tmp/ttm_results/output</a></strong> to <a href='https://wandb.ai/sindhu-varier-pesi/huggingface' target=\"_blank\">Weights & Biases</a> (<a href='https://wandb.me/developer-guide' target=\"_blank\">docs</a>)<br/>"
            ],
            "text/plain": [
              "<IPython.core.display.HTML object>"
            ]
          },
          "metadata": {},
          "output_type": "display_data"
        },
        {
          "data": {
            "text/html": [
              " View project at <a href='https://wandb.ai/sindhu-varier-pesi/huggingface' target=\"_blank\">https://wandb.ai/sindhu-varier-pesi/huggingface</a>"
            ],
            "text/plain": [
              "<IPython.core.display.HTML object>"
            ]
          },
          "metadata": {},
          "output_type": "display_data"
        },
        {
          "data": {
            "text/html": [
              " View run at <a href='https://wandb.ai/sindhu-varier-pesi/huggingface/runs/brwnnujf' target=\"_blank\">https://wandb.ai/sindhu-varier-pesi/huggingface/runs/brwnnujf</a>"
            ],
            "text/plain": [
              "<IPython.core.display.HTML object>"
            ]
          },
          "metadata": {},
          "output_type": "display_data"
        },
        {
          "metadata": {
            "tags": null
          },
          "name": "stderr",
          "output_type": "stream",
          "text": [
            "/usr/local/lib/python3.10/dist-packages/torch/utils/data/dataloader.py:617: UserWarning: This DataLoader will create 8 worker processes in total. Our suggested max number of worker in current system is 2, which is smaller than what this DataLoader is going to create. Please be aware that excessive worker creation might get DataLoader running slow or even freeze, lower the worker number to avoid potential slowness/freeze if necessary.\n",
            "  warnings.warn(\n"
          ]
        },
        {
          "data": {
            "text/html": [
              "\n",
              "    <div>\n",
              "      \n",
              "      <progress value='786' max='94000' style='width:300px; height:20px; vertical-align: middle;'></progress>\n",
              "      [  786/94000 11:37 < 23:02:37, 1.12 it/s, Epoch 1.67/200]\n",
              "    </div>\n",
              "    <table border=\"1\" class=\"dataframe\">\n",
              "  <thead>\n",
              " <tr style=\"text-align: left;\">\n",
              "      <th>Epoch</th>\n",
              "      <th>Training Loss</th>\n",
              "      <th>Validation Loss</th>\n",
              "    </tr>\n",
              "  </thead>\n",
              "  <tbody>\n",
              "    <tr>\n",
              "      <td>1</td>\n",
              "      <td>0.521000</td>\n",
              "      <td>0.251222</td>\n",
              "    </tr>\n",
              "  </tbody>\n",
              "</table><p>"
            ],
            "text/plain": [
              "<IPython.core.display.HTML object>"
            ]
          },
          "metadata": {},
          "output_type": "display_data"
        },
        {
          "metadata": {
            "tags": null
          },
          "name": "stderr",
          "output_type": "stream",
          "text": [
            "/usr/local/lib/python3.10/dist-packages/torch/utils/data/dataloader.py:617: UserWarning: This DataLoader will create 8 worker processes in total. Our suggested max number of worker in current system is 2, which is smaller than what this DataLoader is going to create. Please be aware that excessive worker creation might get DataLoader running slow or even freeze, lower the worker number to avoid potential slowness/freeze if necessary.\n",
            "  warnings.warn(\n"
          ]
        },
        {
          "output_type": "display_data",
          "data": {
            "text/plain": [
              "<IPython.core.display.HTML object>"
            ],
            "text/html": [
              "\n",
              "    <div>\n",
              "      \n",
              "      <progress value='941' max='94000' style='width:300px; height:20px; vertical-align: middle;'></progress>\n",
              "      [  941/94000 13:39 < 22:33:16, 1.15 it/s, Epoch 2/200]\n",
              "    </div>\n",
              "    <table border=\"1\" class=\"dataframe\">\n",
              "  <thead>\n",
              " <tr style=\"text-align: left;\">\n",
              "      <th>Epoch</th>\n",
              "      <th>Training Loss</th>\n",
              "      <th>Validation Loss</th>\n",
              "    </tr>\n",
              "  </thead>\n",
              "  <tbody>\n",
              "    <tr>\n",
              "      <td>1</td>\n",
              "      <td>0.521000</td>\n",
              "      <td>0.251222</td>\n",
              "    </tr>\n",
              "  </tbody>\n",
              "</table><p>\n",
              "    <div>\n",
              "      \n",
              "      <progress value='218' max='322' style='width:300px; height:20px; vertical-align: middle;'></progress>\n",
              "      [218/322 00:56 < 00:27, 3.82 it/s]\n",
              "    </div>\n",
              "    "
            ]
          },
          "metadata": {}
        }
      ],
      "source": [
        "# Fine tune\n",
        "finetune_forecast_trainer.train()"
      ]
    },
    {
      "cell_type": "markdown",
      "metadata": {
        "id": "1DGILcvDePxl"
      },
      "source": [
        "### Evaluate the Model\n",
        "\n",
        "Evaluate the fine-tuned model on the test dataset."
      ]
    },
    {
      "cell_type": "code",
      "execution_count": null,
      "metadata": {
        "id": "xC5yKYwsePxl"
      },
      "outputs": [],
      "source": [
        "# generate forecasts using the finetuned model\n",
        "pipeline = TimeSeriesForecastingPipeline(\n",
        "    finetune_forecast_model,\n",
        "    device=\"cpu\",  # Specify your local GPU or CPU.\n",
        "    feature_extractor=tsp,\n",
        ")\n",
        "\n",
        "# Make a forecast on the target column given the input data.\n",
        "finetune_forecast = pipeline(test_df)\n",
        "finetune_forecast.head()"
      ]
    },
    {
      "cell_type": "code",
      "execution_count": null,
      "metadata": {
        "id": "JhbkS6qdePxl"
      },
      "outputs": [],
      "source": [
        "# Define some standard metrics.\n",
        "def custom_metric(actual, prediction, column_header=\"results\"):\n",
        "    \"\"\"Simple function to compute MSE\"\"\"\n",
        "    a = np.asarray(actual.tolist())\n",
        "    p = np.asarray(prediction.tolist())\n",
        "\n",
        "    mask = ~np.any(np.isnan(a), axis=1)\n",
        "\n",
        "    mse = np.mean(np.square(a[mask, :] - p[mask, :]))\n",
        "    mae = np.mean(np.abs(a[mask, :] - p[mask, :]))\n",
        "    return pd.DataFrame(\n",
        "        {\n",
        "            column_header: {\n",
        "                \"mean_squared_error\": mse,\n",
        "                \"root_mean_squared_error\": np.sqrt(mse),\n",
        "                \"mean_absolute_error\": mae,\n",
        "            }\n",
        "        }\n",
        "    )\n",
        "\n",
        "\n",
        "custom_metric(\n",
        "    finetune_forecast[\"visibility_meters\"],\n",
        "    finetune_forecast[\"visibility_meters_prediction\"],\n",
        "    \"fine-tune forecast (visibility_meters)\",\n",
        ")\n",
        "\n"
      ]
    },
    {
      "cell_type": "code",
      "source": [
        "def custom_r2_score(actual, prediction, column_header=\"results\"):\n",
        "    \"\"\"Function to compute R² Score\"\"\"\n",
        "    a = np.asarray(actual.tolist())\n",
        "    p = np.asarray(prediction.tolist())\n",
        "\n",
        "    # Create a mask to handle missing values (if any)\n",
        "    mask = ~np.any(np.isnan(a), axis=1)\n",
        "\n",
        "    # Calculate metrics\n",
        "    ss_total = np.sum(np.square(a[mask, :] - np.mean(a[mask, :])))\n",
        "    ss_residual = np.sum(np.square(a[mask, :] - p[mask, :]))\n",
        "    r2 = 1 - (ss_residual / ss_total)\n",
        "\n",
        "    return pd.DataFrame(\n",
        "        {\n",
        "            column_header: {\n",
        "                \"r_squared\": r2,\n",
        "            }\n",
        "        }\n",
        "    )\n",
        "\n",
        "# Example usage:\n",
        "custom_r2_score(\n",
        "    finetune_forecast[\"visibility_meters\"],\n",
        "    finetune_forecast[\"visibility_meters_prediction\"],\n",
        "    \"fine tune forecast\")"
      ],
      "metadata": {
        "id": "PasJ5MmLt6tB"
      },
      "execution_count": null,
      "outputs": []
    },
    {
      "cell_type": "markdown",
      "metadata": {
        "id": "h1MBFK3RePxm"
      },
      "source": [
        "### Plot the Predictions vs. Actuals\n",
        "\n",
        "Plot the predictions vs. actuals for some random samples of time intervals in test dataset."
      ]
    },
    {
      "cell_type": "code",
      "execution_count": null,
      "metadata": {
        "id": "AS_dgBsTePxm"
      },
      "outputs": [],
      "source": [
        "# plot\n",
        "plot_predictions(\n",
        "    input_df=test_df,\n",
        "    predictions_df=finetune_forecast,\n",
        "    timestamp_column=timestamp_column,\n",
        "    freq=tsp.freq,\n",
        "    plot_dir=None,\n",
        "    plot_prefix=\"Test\",\n",
        "    channel=\"visibility_meters\",\n",
        "    plot_context=2 * prediction_length,\n",
        "    indices=[1034,2464, 3651, 4964],\n",
        "    num_plots=4,\n",
        ")"
      ]
    },
    {
      "cell_type": "markdown",
      "metadata": {
        "id": "32-LoYdpePxm"
      },
      "source": [
        "## Making the Forecast"
      ]
    },
    {
      "cell_type": "markdown",
      "metadata": {
        "id": "pvygWKsOePxm"
      },
      "source": [
        "### Create a forecasting pipeline with the fine-tuned model\n",
        "\n",
        "Set up the forecasting pipeline with the model, setting `frequency` given our knowledge of the sample frequency. We then make a forecast on the dataset."
      ]
    },
    {
      "cell_type": "code",
      "execution_count": null,
      "metadata": {
        "id": "lBanZTPWePxm"
      },
      "outputs": [],
      "source": [
        "historical_df = input_df.iloc[-context_length:].copy()\n",
        "\n",
        "# Create a pipeline.\n",
        "pipeline = TimeSeriesForecastingPipeline(\n",
        "    finetune_forecast_trainer.model,\n",
        "    feature_extractor=tsp,\n",
        "    device=\"cpu\",  # Specify your local GPU or CPU.\n",
        ")\n",
        "\n",
        "# Make a forecast on the target column given the input data.\n",
        "future_forecast = pipeline(historical_df)\n",
        "future_forecast.tail()"
      ]
    },
    {
      "cell_type": "markdown",
      "metadata": {
        "id": "2mgCZiP_ePxm"
      },
      "source": [
        "### Plot predictions along with the historical data.\n",
        "\n",
        "The predicted series picks up where the historical data ends, and we can see that it predicts a continuation of the cyclical pattern."
      ]
    },
    {
      "cell_type": "code",
      "execution_count": null,
      "metadata": {
        "id": "sRGMWfL4ePxm"
      },
      "outputs": [],
      "source": [
        "# Pre-cast the timestamp to avoid future dtype inference changes\n",
        "historical_df[timestamp_column] = pd.to_datetime(historical_df[timestamp_column])\n",
        "\n",
        "# Plot the historical data and predicted series.\n",
        "plot_predictions(\n",
        "    input_df=historical_df,\n",
        "    predictions_df=future_forecast,\n",
        "    freq=tsp.freq,\n",
        "    timestamp_column=timestamp_column,\n",
        "    channel=target_columns[0],\n",
        ")\n"
      ]
    },
    {
      "cell_type": "markdown",
      "metadata": {
        "id": "NlHEj0RsePxn"
      },
      "source": [
        "## Links\n",
        "* Library: [Granite TSFM on Github](https://github.com/ibm-granite/granite-tsfm)\n",
        "* Model: [TinyTimeMixer on HuggingFace](https://huggingface.co/ibm-granite/granite-timeseries-ttm-v1)\n",
        "* Dataset:"
      ]
    }
  ],
  "metadata": {
    "kernelspec": {
      "display_name": ".venv",
      "language": "python",
      "name": "python3"
    },
    "language_info": {
      "codemirror_mode": {
        "name": "ipython",
        "version": 3
      },
      "file_extension": ".py",
      "mimetype": "text/x-python",
      "name": "python",
      "nbconvert_exporter": "python",
      "pygments_lexer": "ipython3",
      "version": "3.10.15"
    },
    "colab": {
      "provenance": [],
      "include_colab_link": true
    },
    "widgets": {
      "application/vnd.jupyter.widget-state+json": {
        "5c7f306908e1459e90172ad0ee1ecfac": {
          "model_module": "@jupyter-widgets/controls",
          "model_name": "HBoxModel",
          "model_module_version": "1.5.0",
          "state": {
            "_dom_classes": [],
            "_model_module": "@jupyter-widgets/controls",
            "_model_module_version": "1.5.0",
            "_model_name": "HBoxModel",
            "_view_count": null,
            "_view_module": "@jupyter-widgets/controls",
            "_view_module_version": "1.5.0",
            "_view_name": "HBoxView",
            "box_style": "",
            "children": [
              "IPY_MODEL_4ac353ddfeac42b78b9a507c5319e8aa",
              "IPY_MODEL_3ebcbcc887db4988af36be0904ed9296",
              "IPY_MODEL_95f38fea809d4e67a2af7bd38d2626fc"
            ],
            "layout": "IPY_MODEL_d056b899a7c14728be6eae0dde001894"
          }
        },
        "4ac353ddfeac42b78b9a507c5319e8aa": {
          "model_module": "@jupyter-widgets/controls",
          "model_name": "HTMLModel",
          "model_module_version": "1.5.0",
          "state": {
            "_dom_classes": [],
            "_model_module": "@jupyter-widgets/controls",
            "_model_module_version": "1.5.0",
            "_model_name": "HTMLModel",
            "_view_count": null,
            "_view_module": "@jupyter-widgets/controls",
            "_view_module_version": "1.5.0",
            "_view_name": "HTMLView",
            "description": "",
            "description_tooltip": null,
            "layout": "IPY_MODEL_6fdd8f1cc6164fb6ad857de622ec101b",
            "placeholder": "​",
            "style": "IPY_MODEL_e969f3ac97fd4532b6d2a6a27696ab0a",
            "value": "config.json: 100%"
          }
        },
        "3ebcbcc887db4988af36be0904ed9296": {
          "model_module": "@jupyter-widgets/controls",
          "model_name": "FloatProgressModel",
          "model_module_version": "1.5.0",
          "state": {
            "_dom_classes": [],
            "_model_module": "@jupyter-widgets/controls",
            "_model_module_version": "1.5.0",
            "_model_name": "FloatProgressModel",
            "_view_count": null,
            "_view_module": "@jupyter-widgets/controls",
            "_view_module_version": "1.5.0",
            "_view_name": "ProgressView",
            "bar_style": "success",
            "description": "",
            "description_tooltip": null,
            "layout": "IPY_MODEL_4289c5f11fb94965919b53b77aee3bb8",
            "max": 1563,
            "min": 0,
            "orientation": "horizontal",
            "style": "IPY_MODEL_9e453345ed5b41ae8912efc2f70f4970",
            "value": 1563
          }
        },
        "95f38fea809d4e67a2af7bd38d2626fc": {
          "model_module": "@jupyter-widgets/controls",
          "model_name": "HTMLModel",
          "model_module_version": "1.5.0",
          "state": {
            "_dom_classes": [],
            "_model_module": "@jupyter-widgets/controls",
            "_model_module_version": "1.5.0",
            "_model_name": "HTMLModel",
            "_view_count": null,
            "_view_module": "@jupyter-widgets/controls",
            "_view_module_version": "1.5.0",
            "_view_name": "HTMLView",
            "description": "",
            "description_tooltip": null,
            "layout": "IPY_MODEL_3d04396ca109490ba2ec25b299acffd7",
            "placeholder": "​",
            "style": "IPY_MODEL_edb61f1373b04439bfe6650da9d52f7d",
            "value": " 1.56k/1.56k [00:00&lt;00:00, 27.4kB/s]"
          }
        },
        "d056b899a7c14728be6eae0dde001894": {
          "model_module": "@jupyter-widgets/base",
          "model_name": "LayoutModel",
          "model_module_version": "1.2.0",
          "state": {
            "_model_module": "@jupyter-widgets/base",
            "_model_module_version": "1.2.0",
            "_model_name": "LayoutModel",
            "_view_count": null,
            "_view_module": "@jupyter-widgets/base",
            "_view_module_version": "1.2.0",
            "_view_name": "LayoutView",
            "align_content": null,
            "align_items": null,
            "align_self": null,
            "border": null,
            "bottom": null,
            "display": null,
            "flex": null,
            "flex_flow": null,
            "grid_area": null,
            "grid_auto_columns": null,
            "grid_auto_flow": null,
            "grid_auto_rows": null,
            "grid_column": null,
            "grid_gap": null,
            "grid_row": null,
            "grid_template_areas": null,
            "grid_template_columns": null,
            "grid_template_rows": null,
            "height": null,
            "justify_content": null,
            "justify_items": null,
            "left": null,
            "margin": null,
            "max_height": null,
            "max_width": null,
            "min_height": null,
            "min_width": null,
            "object_fit": null,
            "object_position": null,
            "order": null,
            "overflow": null,
            "overflow_x": null,
            "overflow_y": null,
            "padding": null,
            "right": null,
            "top": null,
            "visibility": null,
            "width": null
          }
        },
        "6fdd8f1cc6164fb6ad857de622ec101b": {
          "model_module": "@jupyter-widgets/base",
          "model_name": "LayoutModel",
          "model_module_version": "1.2.0",
          "state": {
            "_model_module": "@jupyter-widgets/base",
            "_model_module_version": "1.2.0",
            "_model_name": "LayoutModel",
            "_view_count": null,
            "_view_module": "@jupyter-widgets/base",
            "_view_module_version": "1.2.0",
            "_view_name": "LayoutView",
            "align_content": null,
            "align_items": null,
            "align_self": null,
            "border": null,
            "bottom": null,
            "display": null,
            "flex": null,
            "flex_flow": null,
            "grid_area": null,
            "grid_auto_columns": null,
            "grid_auto_flow": null,
            "grid_auto_rows": null,
            "grid_column": null,
            "grid_gap": null,
            "grid_row": null,
            "grid_template_areas": null,
            "grid_template_columns": null,
            "grid_template_rows": null,
            "height": null,
            "justify_content": null,
            "justify_items": null,
            "left": null,
            "margin": null,
            "max_height": null,
            "max_width": null,
            "min_height": null,
            "min_width": null,
            "object_fit": null,
            "object_position": null,
            "order": null,
            "overflow": null,
            "overflow_x": null,
            "overflow_y": null,
            "padding": null,
            "right": null,
            "top": null,
            "visibility": null,
            "width": null
          }
        },
        "e969f3ac97fd4532b6d2a6a27696ab0a": {
          "model_module": "@jupyter-widgets/controls",
          "model_name": "DescriptionStyleModel",
          "model_module_version": "1.5.0",
          "state": {
            "_model_module": "@jupyter-widgets/controls",
            "_model_module_version": "1.5.0",
            "_model_name": "DescriptionStyleModel",
            "_view_count": null,
            "_view_module": "@jupyter-widgets/base",
            "_view_module_version": "1.2.0",
            "_view_name": "StyleView",
            "description_width": ""
          }
        },
        "4289c5f11fb94965919b53b77aee3bb8": {
          "model_module": "@jupyter-widgets/base",
          "model_name": "LayoutModel",
          "model_module_version": "1.2.0",
          "state": {
            "_model_module": "@jupyter-widgets/base",
            "_model_module_version": "1.2.0",
            "_model_name": "LayoutModel",
            "_view_count": null,
            "_view_module": "@jupyter-widgets/base",
            "_view_module_version": "1.2.0",
            "_view_name": "LayoutView",
            "align_content": null,
            "align_items": null,
            "align_self": null,
            "border": null,
            "bottom": null,
            "display": null,
            "flex": null,
            "flex_flow": null,
            "grid_area": null,
            "grid_auto_columns": null,
            "grid_auto_flow": null,
            "grid_auto_rows": null,
            "grid_column": null,
            "grid_gap": null,
            "grid_row": null,
            "grid_template_areas": null,
            "grid_template_columns": null,
            "grid_template_rows": null,
            "height": null,
            "justify_content": null,
            "justify_items": null,
            "left": null,
            "margin": null,
            "max_height": null,
            "max_width": null,
            "min_height": null,
            "min_width": null,
            "object_fit": null,
            "object_position": null,
            "order": null,
            "overflow": null,
            "overflow_x": null,
            "overflow_y": null,
            "padding": null,
            "right": null,
            "top": null,
            "visibility": null,
            "width": null
          }
        },
        "9e453345ed5b41ae8912efc2f70f4970": {
          "model_module": "@jupyter-widgets/controls",
          "model_name": "ProgressStyleModel",
          "model_module_version": "1.5.0",
          "state": {
            "_model_module": "@jupyter-widgets/controls",
            "_model_module_version": "1.5.0",
            "_model_name": "ProgressStyleModel",
            "_view_count": null,
            "_view_module": "@jupyter-widgets/base",
            "_view_module_version": "1.2.0",
            "_view_name": "StyleView",
            "bar_color": null,
            "description_width": ""
          }
        },
        "3d04396ca109490ba2ec25b299acffd7": {
          "model_module": "@jupyter-widgets/base",
          "model_name": "LayoutModel",
          "model_module_version": "1.2.0",
          "state": {
            "_model_module": "@jupyter-widgets/base",
            "_model_module_version": "1.2.0",
            "_model_name": "LayoutModel",
            "_view_count": null,
            "_view_module": "@jupyter-widgets/base",
            "_view_module_version": "1.2.0",
            "_view_name": "LayoutView",
            "align_content": null,
            "align_items": null,
            "align_self": null,
            "border": null,
            "bottom": null,
            "display": null,
            "flex": null,
            "flex_flow": null,
            "grid_area": null,
            "grid_auto_columns": null,
            "grid_auto_flow": null,
            "grid_auto_rows": null,
            "grid_column": null,
            "grid_gap": null,
            "grid_row": null,
            "grid_template_areas": null,
            "grid_template_columns": null,
            "grid_template_rows": null,
            "height": null,
            "justify_content": null,
            "justify_items": null,
            "left": null,
            "margin": null,
            "max_height": null,
            "max_width": null,
            "min_height": null,
            "min_width": null,
            "object_fit": null,
            "object_position": null,
            "order": null,
            "overflow": null,
            "overflow_x": null,
            "overflow_y": null,
            "padding": null,
            "right": null,
            "top": null,
            "visibility": null,
            "width": null
          }
        },
        "edb61f1373b04439bfe6650da9d52f7d": {
          "model_module": "@jupyter-widgets/controls",
          "model_name": "DescriptionStyleModel",
          "model_module_version": "1.5.0",
          "state": {
            "_model_module": "@jupyter-widgets/controls",
            "_model_module_version": "1.5.0",
            "_model_name": "DescriptionStyleModel",
            "_view_count": null,
            "_view_module": "@jupyter-widgets/base",
            "_view_module_version": "1.2.0",
            "_view_name": "StyleView",
            "description_width": ""
          }
        },
        "0bab469f86f5485a87f4fc6b9c8fb150": {
          "model_module": "@jupyter-widgets/controls",
          "model_name": "HBoxModel",
          "model_module_version": "1.5.0",
          "state": {
            "_dom_classes": [],
            "_model_module": "@jupyter-widgets/controls",
            "_model_module_version": "1.5.0",
            "_model_name": "HBoxModel",
            "_view_count": null,
            "_view_module": "@jupyter-widgets/controls",
            "_view_module_version": "1.5.0",
            "_view_name": "HBoxView",
            "box_style": "",
            "children": [
              "IPY_MODEL_7593d9e31de34724965f57810e528c60",
              "IPY_MODEL_8bbbae4e2b6f4c108dc1a807818f96a5",
              "IPY_MODEL_2991b7f2e6cb4fb3a4610acdb766f8bf"
            ],
            "layout": "IPY_MODEL_5138d8c2b5af42ec8b19f192a734220b"
          }
        },
        "7593d9e31de34724965f57810e528c60": {
          "model_module": "@jupyter-widgets/controls",
          "model_name": "HTMLModel",
          "model_module_version": "1.5.0",
          "state": {
            "_dom_classes": [],
            "_model_module": "@jupyter-widgets/controls",
            "_model_module_version": "1.5.0",
            "_model_name": "HTMLModel",
            "_view_count": null,
            "_view_module": "@jupyter-widgets/controls",
            "_view_module_version": "1.5.0",
            "_view_name": "HTMLView",
            "description": "",
            "description_tooltip": null,
            "layout": "IPY_MODEL_8aee00e85ca5490c9a0980bae6faeec0",
            "placeholder": "​",
            "style": "IPY_MODEL_0f85019688a24e438609ffd045184e53",
            "value": "model.safetensors: 100%"
          }
        },
        "8bbbae4e2b6f4c108dc1a807818f96a5": {
          "model_module": "@jupyter-widgets/controls",
          "model_name": "FloatProgressModel",
          "model_module_version": "1.5.0",
          "state": {
            "_dom_classes": [],
            "_model_module": "@jupyter-widgets/controls",
            "_model_module_version": "1.5.0",
            "_model_name": "FloatProgressModel",
            "_view_count": null,
            "_view_module": "@jupyter-widgets/controls",
            "_view_module_version": "1.5.0",
            "_view_name": "ProgressView",
            "bar_style": "success",
            "description": "",
            "description_tooltip": null,
            "layout": "IPY_MODEL_99618853918a4ab6a1206f4f5462a73e",
            "max": 3240592,
            "min": 0,
            "orientation": "horizontal",
            "style": "IPY_MODEL_1ba1bdf92fa84a5bb0946f3117f6b837",
            "value": 3240592
          }
        },
        "2991b7f2e6cb4fb3a4610acdb766f8bf": {
          "model_module": "@jupyter-widgets/controls",
          "model_name": "HTMLModel",
          "model_module_version": "1.5.0",
          "state": {
            "_dom_classes": [],
            "_model_module": "@jupyter-widgets/controls",
            "_model_module_version": "1.5.0",
            "_model_name": "HTMLModel",
            "_view_count": null,
            "_view_module": "@jupyter-widgets/controls",
            "_view_module_version": "1.5.0",
            "_view_name": "HTMLView",
            "description": "",
            "description_tooltip": null,
            "layout": "IPY_MODEL_ba2a70673ad74ec89b8308ddeeb405a2",
            "placeholder": "​",
            "style": "IPY_MODEL_ee30e5b7db484c2ab62f89df5bd512c4",
            "value": " 3.24M/3.24M [00:00&lt;00:00, 10.9MB/s]"
          }
        },
        "5138d8c2b5af42ec8b19f192a734220b": {
          "model_module": "@jupyter-widgets/base",
          "model_name": "LayoutModel",
          "model_module_version": "1.2.0",
          "state": {
            "_model_module": "@jupyter-widgets/base",
            "_model_module_version": "1.2.0",
            "_model_name": "LayoutModel",
            "_view_count": null,
            "_view_module": "@jupyter-widgets/base",
            "_view_module_version": "1.2.0",
            "_view_name": "LayoutView",
            "align_content": null,
            "align_items": null,
            "align_self": null,
            "border": null,
            "bottom": null,
            "display": null,
            "flex": null,
            "flex_flow": null,
            "grid_area": null,
            "grid_auto_columns": null,
            "grid_auto_flow": null,
            "grid_auto_rows": null,
            "grid_column": null,
            "grid_gap": null,
            "grid_row": null,
            "grid_template_areas": null,
            "grid_template_columns": null,
            "grid_template_rows": null,
            "height": null,
            "justify_content": null,
            "justify_items": null,
            "left": null,
            "margin": null,
            "max_height": null,
            "max_width": null,
            "min_height": null,
            "min_width": null,
            "object_fit": null,
            "object_position": null,
            "order": null,
            "overflow": null,
            "overflow_x": null,
            "overflow_y": null,
            "padding": null,
            "right": null,
            "top": null,
            "visibility": null,
            "width": null
          }
        },
        "8aee00e85ca5490c9a0980bae6faeec0": {
          "model_module": "@jupyter-widgets/base",
          "model_name": "LayoutModel",
          "model_module_version": "1.2.0",
          "state": {
            "_model_module": "@jupyter-widgets/base",
            "_model_module_version": "1.2.0",
            "_model_name": "LayoutModel",
            "_view_count": null,
            "_view_module": "@jupyter-widgets/base",
            "_view_module_version": "1.2.0",
            "_view_name": "LayoutView",
            "align_content": null,
            "align_items": null,
            "align_self": null,
            "border": null,
            "bottom": null,
            "display": null,
            "flex": null,
            "flex_flow": null,
            "grid_area": null,
            "grid_auto_columns": null,
            "grid_auto_flow": null,
            "grid_auto_rows": null,
            "grid_column": null,
            "grid_gap": null,
            "grid_row": null,
            "grid_template_areas": null,
            "grid_template_columns": null,
            "grid_template_rows": null,
            "height": null,
            "justify_content": null,
            "justify_items": null,
            "left": null,
            "margin": null,
            "max_height": null,
            "max_width": null,
            "min_height": null,
            "min_width": null,
            "object_fit": null,
            "object_position": null,
            "order": null,
            "overflow": null,
            "overflow_x": null,
            "overflow_y": null,
            "padding": null,
            "right": null,
            "top": null,
            "visibility": null,
            "width": null
          }
        },
        "0f85019688a24e438609ffd045184e53": {
          "model_module": "@jupyter-widgets/controls",
          "model_name": "DescriptionStyleModel",
          "model_module_version": "1.5.0",
          "state": {
            "_model_module": "@jupyter-widgets/controls",
            "_model_module_version": "1.5.0",
            "_model_name": "DescriptionStyleModel",
            "_view_count": null,
            "_view_module": "@jupyter-widgets/base",
            "_view_module_version": "1.2.0",
            "_view_name": "StyleView",
            "description_width": ""
          }
        },
        "99618853918a4ab6a1206f4f5462a73e": {
          "model_module": "@jupyter-widgets/base",
          "model_name": "LayoutModel",
          "model_module_version": "1.2.0",
          "state": {
            "_model_module": "@jupyter-widgets/base",
            "_model_module_version": "1.2.0",
            "_model_name": "LayoutModel",
            "_view_count": null,
            "_view_module": "@jupyter-widgets/base",
            "_view_module_version": "1.2.0",
            "_view_name": "LayoutView",
            "align_content": null,
            "align_items": null,
            "align_self": null,
            "border": null,
            "bottom": null,
            "display": null,
            "flex": null,
            "flex_flow": null,
            "grid_area": null,
            "grid_auto_columns": null,
            "grid_auto_flow": null,
            "grid_auto_rows": null,
            "grid_column": null,
            "grid_gap": null,
            "grid_row": null,
            "grid_template_areas": null,
            "grid_template_columns": null,
            "grid_template_rows": null,
            "height": null,
            "justify_content": null,
            "justify_items": null,
            "left": null,
            "margin": null,
            "max_height": null,
            "max_width": null,
            "min_height": null,
            "min_width": null,
            "object_fit": null,
            "object_position": null,
            "order": null,
            "overflow": null,
            "overflow_x": null,
            "overflow_y": null,
            "padding": null,
            "right": null,
            "top": null,
            "visibility": null,
            "width": null
          }
        },
        "1ba1bdf92fa84a5bb0946f3117f6b837": {
          "model_module": "@jupyter-widgets/controls",
          "model_name": "ProgressStyleModel",
          "model_module_version": "1.5.0",
          "state": {
            "_model_module": "@jupyter-widgets/controls",
            "_model_module_version": "1.5.0",
            "_model_name": "ProgressStyleModel",
            "_view_count": null,
            "_view_module": "@jupyter-widgets/base",
            "_view_module_version": "1.2.0",
            "_view_name": "StyleView",
            "bar_color": null,
            "description_width": ""
          }
        },
        "ba2a70673ad74ec89b8308ddeeb405a2": {
          "model_module": "@jupyter-widgets/base",
          "model_name": "LayoutModel",
          "model_module_version": "1.2.0",
          "state": {
            "_model_module": "@jupyter-widgets/base",
            "_model_module_version": "1.2.0",
            "_model_name": "LayoutModel",
            "_view_count": null,
            "_view_module": "@jupyter-widgets/base",
            "_view_module_version": "1.2.0",
            "_view_name": "LayoutView",
            "align_content": null,
            "align_items": null,
            "align_self": null,
            "border": null,
            "bottom": null,
            "display": null,
            "flex": null,
            "flex_flow": null,
            "grid_area": null,
            "grid_auto_columns": null,
            "grid_auto_flow": null,
            "grid_auto_rows": null,
            "grid_column": null,
            "grid_gap": null,
            "grid_row": null,
            "grid_template_areas": null,
            "grid_template_columns": null,
            "grid_template_rows": null,
            "height": null,
            "justify_content": null,
            "justify_items": null,
            "left": null,
            "margin": null,
            "max_height": null,
            "max_width": null,
            "min_height": null,
            "min_width": null,
            "object_fit": null,
            "object_position": null,
            "order": null,
            "overflow": null,
            "overflow_x": null,
            "overflow_y": null,
            "padding": null,
            "right": null,
            "top": null,
            "visibility": null,
            "width": null
          }
        },
        "ee30e5b7db484c2ab62f89df5bd512c4": {
          "model_module": "@jupyter-widgets/controls",
          "model_name": "DescriptionStyleModel",
          "model_module_version": "1.5.0",
          "state": {
            "_model_module": "@jupyter-widgets/controls",
            "_model_module_version": "1.5.0",
            "_model_name": "DescriptionStyleModel",
            "_view_count": null,
            "_view_module": "@jupyter-widgets/base",
            "_view_module_version": "1.2.0",
            "_view_name": "StyleView",
            "description_width": ""
          }
        },
        "81511b2c699148218e1457f7e434a4c2": {
          "model_module": "@jupyter-widgets/controls",
          "model_name": "HBoxModel",
          "model_module_version": "1.5.0",
          "state": {
            "_dom_classes": [],
            "_model_module": "@jupyter-widgets/controls",
            "_model_module_version": "1.5.0",
            "_model_name": "HBoxModel",
            "_view_count": null,
            "_view_module": "@jupyter-widgets/controls",
            "_view_module_version": "1.5.0",
            "_view_name": "HBoxView",
            "box_style": "",
            "children": [
              "IPY_MODEL_6d8caec4b09848db8948750895bc4a40",
              "IPY_MODEL_f701893eb9a2449ebdc95ed95fda748f",
              "IPY_MODEL_ac1341bdee504397982b9ed954d0dcc8"
            ],
            "layout": "IPY_MODEL_70dd7504682a4e28b2aff0ff88a16c2c"
          }
        },
        "6d8caec4b09848db8948750895bc4a40": {
          "model_module": "@jupyter-widgets/controls",
          "model_name": "HTMLModel",
          "model_module_version": "1.5.0",
          "state": {
            "_dom_classes": [],
            "_model_module": "@jupyter-widgets/controls",
            "_model_module_version": "1.5.0",
            "_model_name": "HTMLModel",
            "_view_count": null,
            "_view_module": "@jupyter-widgets/controls",
            "_view_module_version": "1.5.0",
            "_view_name": "HTMLView",
            "description": "",
            "description_tooltip": null,
            "layout": "IPY_MODEL_cbf3c64d4c7547eab3be99f33e3ced53",
            "placeholder": "​",
            "style": "IPY_MODEL_242cbcfee6694d048a7d104228098093",
            "value": "generation_config.json: 100%"
          }
        },
        "f701893eb9a2449ebdc95ed95fda748f": {
          "model_module": "@jupyter-widgets/controls",
          "model_name": "FloatProgressModel",
          "model_module_version": "1.5.0",
          "state": {
            "_dom_classes": [],
            "_model_module": "@jupyter-widgets/controls",
            "_model_module_version": "1.5.0",
            "_model_name": "FloatProgressModel",
            "_view_count": null,
            "_view_module": "@jupyter-widgets/controls",
            "_view_module_version": "1.5.0",
            "_view_name": "ProgressView",
            "bar_style": "success",
            "description": "",
            "description_tooltip": null,
            "layout": "IPY_MODEL_0d4704eedd9848968a3527e713214607",
            "max": 69,
            "min": 0,
            "orientation": "horizontal",
            "style": "IPY_MODEL_b64640181a994a6eb54c72460359b944",
            "value": 69
          }
        },
        "ac1341bdee504397982b9ed954d0dcc8": {
          "model_module": "@jupyter-widgets/controls",
          "model_name": "HTMLModel",
          "model_module_version": "1.5.0",
          "state": {
            "_dom_classes": [],
            "_model_module": "@jupyter-widgets/controls",
            "_model_module_version": "1.5.0",
            "_model_name": "HTMLModel",
            "_view_count": null,
            "_view_module": "@jupyter-widgets/controls",
            "_view_module_version": "1.5.0",
            "_view_name": "HTMLView",
            "description": "",
            "description_tooltip": null,
            "layout": "IPY_MODEL_26c1e537302f4c99b0fd2309d9e89881",
            "placeholder": "​",
            "style": "IPY_MODEL_76adeb8dbab7478a9abc81920e22ffe2",
            "value": " 69.0/69.0 [00:00&lt;00:00, 1.69kB/s]"
          }
        },
        "70dd7504682a4e28b2aff0ff88a16c2c": {
          "model_module": "@jupyter-widgets/base",
          "model_name": "LayoutModel",
          "model_module_version": "1.2.0",
          "state": {
            "_model_module": "@jupyter-widgets/base",
            "_model_module_version": "1.2.0",
            "_model_name": "LayoutModel",
            "_view_count": null,
            "_view_module": "@jupyter-widgets/base",
            "_view_module_version": "1.2.0",
            "_view_name": "LayoutView",
            "align_content": null,
            "align_items": null,
            "align_self": null,
            "border": null,
            "bottom": null,
            "display": null,
            "flex": null,
            "flex_flow": null,
            "grid_area": null,
            "grid_auto_columns": null,
            "grid_auto_flow": null,
            "grid_auto_rows": null,
            "grid_column": null,
            "grid_gap": null,
            "grid_row": null,
            "grid_template_areas": null,
            "grid_template_columns": null,
            "grid_template_rows": null,
            "height": null,
            "justify_content": null,
            "justify_items": null,
            "left": null,
            "margin": null,
            "max_height": null,
            "max_width": null,
            "min_height": null,
            "min_width": null,
            "object_fit": null,
            "object_position": null,
            "order": null,
            "overflow": null,
            "overflow_x": null,
            "overflow_y": null,
            "padding": null,
            "right": null,
            "top": null,
            "visibility": null,
            "width": null
          }
        },
        "cbf3c64d4c7547eab3be99f33e3ced53": {
          "model_module": "@jupyter-widgets/base",
          "model_name": "LayoutModel",
          "model_module_version": "1.2.0",
          "state": {
            "_model_module": "@jupyter-widgets/base",
            "_model_module_version": "1.2.0",
            "_model_name": "LayoutModel",
            "_view_count": null,
            "_view_module": "@jupyter-widgets/base",
            "_view_module_version": "1.2.0",
            "_view_name": "LayoutView",
            "align_content": null,
            "align_items": null,
            "align_self": null,
            "border": null,
            "bottom": null,
            "display": null,
            "flex": null,
            "flex_flow": null,
            "grid_area": null,
            "grid_auto_columns": null,
            "grid_auto_flow": null,
            "grid_auto_rows": null,
            "grid_column": null,
            "grid_gap": null,
            "grid_row": null,
            "grid_template_areas": null,
            "grid_template_columns": null,
            "grid_template_rows": null,
            "height": null,
            "justify_content": null,
            "justify_items": null,
            "left": null,
            "margin": null,
            "max_height": null,
            "max_width": null,
            "min_height": null,
            "min_width": null,
            "object_fit": null,
            "object_position": null,
            "order": null,
            "overflow": null,
            "overflow_x": null,
            "overflow_y": null,
            "padding": null,
            "right": null,
            "top": null,
            "visibility": null,
            "width": null
          }
        },
        "242cbcfee6694d048a7d104228098093": {
          "model_module": "@jupyter-widgets/controls",
          "model_name": "DescriptionStyleModel",
          "model_module_version": "1.5.0",
          "state": {
            "_model_module": "@jupyter-widgets/controls",
            "_model_module_version": "1.5.0",
            "_model_name": "DescriptionStyleModel",
            "_view_count": null,
            "_view_module": "@jupyter-widgets/base",
            "_view_module_version": "1.2.0",
            "_view_name": "StyleView",
            "description_width": ""
          }
        },
        "0d4704eedd9848968a3527e713214607": {
          "model_module": "@jupyter-widgets/base",
          "model_name": "LayoutModel",
          "model_module_version": "1.2.0",
          "state": {
            "_model_module": "@jupyter-widgets/base",
            "_model_module_version": "1.2.0",
            "_model_name": "LayoutModel",
            "_view_count": null,
            "_view_module": "@jupyter-widgets/base",
            "_view_module_version": "1.2.0",
            "_view_name": "LayoutView",
            "align_content": null,
            "align_items": null,
            "align_self": null,
            "border": null,
            "bottom": null,
            "display": null,
            "flex": null,
            "flex_flow": null,
            "grid_area": null,
            "grid_auto_columns": null,
            "grid_auto_flow": null,
            "grid_auto_rows": null,
            "grid_column": null,
            "grid_gap": null,
            "grid_row": null,
            "grid_template_areas": null,
            "grid_template_columns": null,
            "grid_template_rows": null,
            "height": null,
            "justify_content": null,
            "justify_items": null,
            "left": null,
            "margin": null,
            "max_height": null,
            "max_width": null,
            "min_height": null,
            "min_width": null,
            "object_fit": null,
            "object_position": null,
            "order": null,
            "overflow": null,
            "overflow_x": null,
            "overflow_y": null,
            "padding": null,
            "right": null,
            "top": null,
            "visibility": null,
            "width": null
          }
        },
        "b64640181a994a6eb54c72460359b944": {
          "model_module": "@jupyter-widgets/controls",
          "model_name": "ProgressStyleModel",
          "model_module_version": "1.5.0",
          "state": {
            "_model_module": "@jupyter-widgets/controls",
            "_model_module_version": "1.5.0",
            "_model_name": "ProgressStyleModel",
            "_view_count": null,
            "_view_module": "@jupyter-widgets/base",
            "_view_module_version": "1.2.0",
            "_view_name": "StyleView",
            "bar_color": null,
            "description_width": ""
          }
        },
        "26c1e537302f4c99b0fd2309d9e89881": {
          "model_module": "@jupyter-widgets/base",
          "model_name": "LayoutModel",
          "model_module_version": "1.2.0",
          "state": {
            "_model_module": "@jupyter-widgets/base",
            "_model_module_version": "1.2.0",
            "_model_name": "LayoutModel",
            "_view_count": null,
            "_view_module": "@jupyter-widgets/base",
            "_view_module_version": "1.2.0",
            "_view_name": "LayoutView",
            "align_content": null,
            "align_items": null,
            "align_self": null,
            "border": null,
            "bottom": null,
            "display": null,
            "flex": null,
            "flex_flow": null,
            "grid_area": null,
            "grid_auto_columns": null,
            "grid_auto_flow": null,
            "grid_auto_rows": null,
            "grid_column": null,
            "grid_gap": null,
            "grid_row": null,
            "grid_template_areas": null,
            "grid_template_columns": null,
            "grid_template_rows": null,
            "height": null,
            "justify_content": null,
            "justify_items": null,
            "left": null,
            "margin": null,
            "max_height": null,
            "max_width": null,
            "min_height": null,
            "min_width": null,
            "object_fit": null,
            "object_position": null,
            "order": null,
            "overflow": null,
            "overflow_x": null,
            "overflow_y": null,
            "padding": null,
            "right": null,
            "top": null,
            "visibility": null,
            "width": null
          }
        },
        "76adeb8dbab7478a9abc81920e22ffe2": {
          "model_module": "@jupyter-widgets/controls",
          "model_name": "DescriptionStyleModel",
          "model_module_version": "1.5.0",
          "state": {
            "_model_module": "@jupyter-widgets/controls",
            "_model_module_version": "1.5.0",
            "_model_name": "DescriptionStyleModel",
            "_view_count": null,
            "_view_module": "@jupyter-widgets/base",
            "_view_module_version": "1.2.0",
            "_view_name": "StyleView",
            "description_width": ""
          }
        }
      }
    }
  },
  "nbformat": 4,
  "nbformat_minor": 0
}